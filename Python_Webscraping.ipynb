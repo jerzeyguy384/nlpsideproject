{
 "cells": [
  {
   "cell_type": "code",
   "execution_count": 62,
   "metadata": {
    "collapsed": false
   },
   "outputs": [],
   "source": [
    "import requests\n",
    "import csv"
   ]
  },
  {
   "cell_type": "code",
   "execution_count": 63,
   "metadata": {
    "collapsed": true
   },
   "outputs": [],
   "source": [
    "#I plan on repeating this process about 20 times\n",
    "#List includes Flight, \n",
    "f = requests.get('https://www.yelp.com/biz/flight-wine-bar-washington')"
   ]
  },
  {
   "cell_type": "code",
   "execution_count": 64,
   "metadata": {
    "collapsed": false
   },
   "outputs": [
    {
     "name": "stdout",
     "output_type": "stream",
     "text": [
      "<!DOCTYPE HTML>\n",
      "\n",
      "<!--[if lt IE 7 ]> <html xmlns:fb=\"http://www.facebook.com/2008/fbml\" class=\"ie6 ie ltie9 ltie8 no-js\" lang=\"en\"> <![endif]-->\n",
      "<!--[if IE 7 ]>    <html xmlns:fb=\"http://www.facebook.com/2008/fbml\" class=\"ie7 ie ltie9 ltie8 no-js\" lang=\"en\"> <![endif]-->\n",
      "<!--[if IE 8 ]>    <html xmlns:fb=\"http://www.facebook.com/2008/fbml\" class=\"ie8 ie ltie9 no-js\" lang=\"en\"> <![endif]-->\n",
      "<!--[if IE 9 ]>    <html xmlns:fb=\"http://www.facebook.com/2008/fbml\" class=\"ie9 ie no-js\" lang=\"en\"> <![end\n"
     ]
    }
   ],
   "source": [
    "# print the first 500 characters of the HTML\n",
    "print(f.text[0:500])"
   ]
  },
  {
   "cell_type": "code",
   "execution_count": 65,
   "metadata": {
    "collapsed": true
   },
   "outputs": [],
   "source": [
    "from bs4 import BeautifulSoup  "
   ]
  },
  {
   "cell_type": "code",
   "execution_count": 67,
   "metadata": {
    "collapsed": true
   },
   "outputs": [],
   "source": [
    "soup = BeautifulSoup(f.text, 'html.parser')"
   ]
  },
  {
   "cell_type": "code",
   "execution_count": 72,
   "metadata": {
    "collapsed": true
   },
   "outputs": [],
   "source": [
    "review = soup.find_all('p', attrs={'itemprop':'description'}) "
   ]
  },
  {
   "cell_type": "code",
   "execution_count": 73,
   "metadata": {
    "collapsed": false
   },
   "outputs": [
    {
     "data": {
      "text/plain": [
       "20"
      ]
     },
     "execution_count": 73,
     "metadata": {},
     "output_type": "execute_result"
    }
   ],
   "source": [
    "len(review)"
   ]
  },
  {
   "cell_type": "code",
   "execution_count": 77,
   "metadata": {
    "collapsed": false
   },
   "outputs": [
    {
     "data": {
      "text/plain": [
       "<p itemprop=\"description\">Flight is a go to for me for a nice glass or flight of wine.  The bar is really cool and the service has always been good.  They have some pretty cool themed flights and their food menu is solid to pair with their wines.  I always ask for recommendations and have never been disappointed.  They also offer monthly wine classes if you really love wine and enjoy learning about it.<p>\\n</p></p>"
      ]
     },
     "execution_count": 77,
     "metadata": {},
     "output_type": "execute_result"
    }
   ],
   "source": [
    "review[19]"
   ]
  },
  {
   "cell_type": "code",
   "execution_count": 75,
   "metadata": {
    "collapsed": false
   },
   "outputs": [
    {
     "data": {
      "text/plain": [
       "<p itemprop=\"description\">What a great spot we came across while vacationing in D.C. We were looking for a wine bar, and I had this one bookmarked from when I was looking at places to check out while on vacation. \\n\\nIt was kind of empty when we arrived, but we still opted to sit at the bar. We had two women helping us which was nice because you never felt ignored. My girlfriend and I both ordered a wine flight, and we shared. I got the Sparkling Trio. They switched out one of the sparkling wines because I said I liked more of a dry wine. I kind of wish I would have stayed with what the original wine because the one they switched it to wasn't that good in my opinion. The others were delightful though. \\n\\nThis was a nice and fun environment. We decided not to order food here because we looked at some of the small plates and appetizers they had to offer, and nothing really stood out. We also saw them deliver some food to other patrons, and it was not our cup of tea. Still, the people who ordered their food seemed to like it so there's that. \\n\\nAll in all, I would come back to this place if I was ever in town again.<p>\\n</p></p>"
      ]
     },
     "execution_count": 75,
     "metadata": {},
     "output_type": "execute_result"
    }
   ],
   "source": [
    "first_results = review[0]\n",
    "first_results"
   ]
  },
  {
   "cell_type": "code",
   "execution_count": 100,
   "metadata": {
    "collapsed": true
   },
   "outputs": [],
   "source": [
    "author = soup.find_all('meta', attrs={'itemprop':'author'}) \n",
    "# as written on HTML:   meta itemprop=\"author\" content=\"Kacey R.\""
   ]
  },
  {
   "cell_type": "code",
   "execution_count": 101,
   "metadata": {
    "collapsed": false
   },
   "outputs": [
    {
     "data": {
      "text/plain": [
       "21"
      ]
     },
     "execution_count": 101,
     "metadata": {},
     "output_type": "execute_result"
    }
   ],
   "source": [
    "len(author)"
   ]
  },
  {
   "cell_type": "code",
   "execution_count": 103,
   "metadata": {
    "collapsed": false
   },
   "outputs": [
    {
     "data": {
      "text/plain": [
       "<meta content=\"Kacey R.\" itemprop=\"author\">\\n<div itemprop=\"reviewRating\" itemscope=\"\" itemtype=\"http://schema.org/Rating\">\\n<meta content=\"4.0\" itemprop=\"ratingValue\">\\n</meta></div>\\n<meta content=\"2017-07-19\" itemprop=\"datePublished\">\\n<p itemprop=\"description\">What a great spot we came across while vacationing in D.C. We were looking for a wine bar, and I had this one bookmarked from when I was looking at places to check out while on vacation. \\n\\nIt was kind of empty when we arrived, but we still opted to sit at the bar. We had two women helping us which was nice because you never felt ignored. My girlfriend and I both ordered a wine flight, and we shared. I got the Sparkling Trio. They switched out one of the sparkling wines because I said I liked more of a dry wine. I kind of wish I would have stayed with what the original wine because the one they switched it to wasn't that good in my opinion. The others were delightful though. \\n\\nThis was a nice and fun environment. We decided not to order food here because we looked at some of the small plates and appetizers they had to offer, and nothing really stood out. We also saw them deliver some food to other patrons, and it was not our cup of tea. Still, the people who ordered their food seemed to like it so there's that. \\n\\nAll in all, I would come back to this place if I was ever in town again.<p>\\n</p></p></meta></meta>"
      ]
     },
     "execution_count": 103,
     "metadata": {},
     "output_type": "execute_result"
    }
   ],
   "source": [
    "#this takes all the information and it doesn't do a good job seperating the rest of the data\n",
    "author[1]"
   ]
  },
  {
   "cell_type": "code",
   "execution_count": 78,
   "metadata": {
    "collapsed": true
   },
   "outputs": [],
   "source": [
    "ratingValue = soup.find_all('meta', attrs={'itemprop':'ratingValue'}) \n",
    "#<meta itemprop=\"ratingValue\" content=\"4.0\">"
   ]
  },
  {
   "cell_type": "code",
   "execution_count": 81,
   "metadata": {
    "collapsed": false
   },
   "outputs": [
    {
     "data": {
      "text/plain": [
       "22"
      ]
     },
     "execution_count": 81,
     "metadata": {},
     "output_type": "execute_result"
    }
   ],
   "source": [
    "#there are two two many(2 more than expected)\n",
    "##need editing\n",
    "len(ratingValue)"
   ]
  },
  {
   "cell_type": "code",
   "execution_count": 82,
   "metadata": {
    "collapsed": false
   },
   "outputs": [
    {
     "data": {
      "text/plain": [
       "[<meta content=\"4.0\" itemprop=\"ratingValue\">\\n<span itemprop=\"reviewCount\">189</span>\\n</meta>,\n",
       " <meta content=\"4.0\" itemprop=\"ratingValue\">\\n</meta>,\n",
       " <meta content=\"4.0\" itemprop=\"ratingValue\">\\n</meta>,\n",
       " <meta content=\"4.0\" itemprop=\"ratingValue\">\\n</meta>,\n",
       " <meta content=\"3.0\" itemprop=\"ratingValue\">\\n</meta>,\n",
       " <meta content=\"3.0\" itemprop=\"ratingValue\">\\n</meta>,\n",
       " <meta content=\"4.0\" itemprop=\"ratingValue\">\\n</meta>,\n",
       " <meta content=\"4.0\" itemprop=\"ratingValue\">\\n</meta>,\n",
       " <meta content=\"4.0\" itemprop=\"ratingValue\">\\n</meta>,\n",
       " <meta content=\"1.0\" itemprop=\"ratingValue\">\\n</meta>,\n",
       " <meta content=\"4.0\" itemprop=\"ratingValue\">\\n</meta>,\n",
       " <meta content=\"5.0\" itemprop=\"ratingValue\">\\n</meta>,\n",
       " <meta content=\"5.0\" itemprop=\"ratingValue\">\\n</meta>,\n",
       " <meta content=\"4.0\" itemprop=\"ratingValue\">\\n</meta>,\n",
       " <meta content=\"4.0\" itemprop=\"ratingValue\">\\n</meta>,\n",
       " <meta content=\"4.0\" itemprop=\"ratingValue\">\\n</meta>,\n",
       " <meta content=\"4.0\" itemprop=\"ratingValue\">\\n</meta>,\n",
       " <meta content=\"4.0\" itemprop=\"ratingValue\">\\n</meta>,\n",
       " <meta content=\"4.0\" itemprop=\"ratingValue\">\\n</meta>,\n",
       " <meta content=\"5.0\" itemprop=\"ratingValue\">\\n</meta>,\n",
       " <meta content=\"4.0\" itemprop=\"ratingValue\">\\n</meta>]"
      ]
     },
     "execution_count": 82,
     "metadata": {},
     "output_type": "execute_result"
    }
   ],
   "source": [
    "#it too the aggregate and something else\n",
    "ratingValue[0:21]"
   ]
  },
  {
   "cell_type": "code",
   "execution_count": 96,
   "metadata": {
    "collapsed": true
   },
   "outputs": [],
   "source": [
    "#ratingvalue amended to remove the funky number\n",
    "#temporary fix\n",
    "ratingValuefix = ratingValue[1:21]"
   ]
  },
  {
   "cell_type": "code",
   "execution_count": 97,
   "metadata": {
    "collapsed": false
   },
   "outputs": [
    {
     "data": {
      "text/plain": [
       "[<meta content=\"4.0\" itemprop=\"ratingValue\">\\n</meta>,\n",
       " <meta content=\"4.0\" itemprop=\"ratingValue\">\\n</meta>,\n",
       " <meta content=\"4.0\" itemprop=\"ratingValue\">\\n</meta>,\n",
       " <meta content=\"3.0\" itemprop=\"ratingValue\">\\n</meta>,\n",
       " <meta content=\"3.0\" itemprop=\"ratingValue\">\\n</meta>,\n",
       " <meta content=\"4.0\" itemprop=\"ratingValue\">\\n</meta>,\n",
       " <meta content=\"4.0\" itemprop=\"ratingValue\">\\n</meta>,\n",
       " <meta content=\"4.0\" itemprop=\"ratingValue\">\\n</meta>,\n",
       " <meta content=\"1.0\" itemprop=\"ratingValue\">\\n</meta>,\n",
       " <meta content=\"4.0\" itemprop=\"ratingValue\">\\n</meta>,\n",
       " <meta content=\"5.0\" itemprop=\"ratingValue\">\\n</meta>,\n",
       " <meta content=\"5.0\" itemprop=\"ratingValue\">\\n</meta>,\n",
       " <meta content=\"4.0\" itemprop=\"ratingValue\">\\n</meta>,\n",
       " <meta content=\"4.0\" itemprop=\"ratingValue\">\\n</meta>,\n",
       " <meta content=\"4.0\" itemprop=\"ratingValue\">\\n</meta>,\n",
       " <meta content=\"4.0\" itemprop=\"ratingValue\">\\n</meta>,\n",
       " <meta content=\"4.0\" itemprop=\"ratingValue\">\\n</meta>,\n",
       " <meta content=\"4.0\" itemprop=\"ratingValue\">\\n</meta>,\n",
       " <meta content=\"5.0\" itemprop=\"ratingValue\">\\n</meta>,\n",
       " <meta content=\"4.0\" itemprop=\"ratingValue\">\\n</meta>]"
      ]
     },
     "execution_count": 97,
     "metadata": {},
     "output_type": "execute_result"
    }
   ],
   "source": [
    "ratingValuefix[0:20]"
   ]
  },
  {
   "cell_type": "code",
   "execution_count": 84,
   "metadata": {
    "collapsed": true
   },
   "outputs": [],
   "source": [
    "datepublished  = soup.find_all('meta', attrs={'itemprop':'datePublished'}) \n",
    "#<meta itemprop=\"datePublished\" content=\"2017-07-19\">"
   ]
  },
  {
   "cell_type": "code",
   "execution_count": 86,
   "metadata": {
    "collapsed": false
   },
   "outputs": [
    {
     "data": {
      "text/plain": [
       "20"
      ]
     },
     "execution_count": 86,
     "metadata": {},
     "output_type": "execute_result"
    }
   ],
   "source": [
    "#this looks alright\n",
    "len(datepublished)"
   ]
  },
  {
   "cell_type": "code",
   "execution_count": 60,
   "metadata": {
    "collapsed": false
   },
   "outputs": [],
   "source": [
    "#I limited the categories to four columns. rating, users, dates, and review.\n",
    "###I am worried that the scrapped data won't work well beecause of the error above in RatingValue and Username\n",
    "records = []  \n",
    "for result in results:\n",
    "review = soup.find_all('p', attrs={'itemprop':'description'}) \n",
    "author = soup.find_all('meta', attrs={'itemprop':'author'}) \n",
    "ratingValuefix\n",
    "#I'm not sure if you can do the ratingValueFix\n",
    "datepublished  = soup.find_all('meta', attrs={'itemprop':'datePublished'}) "
   ]
  },
  {
   "cell_type": "code",
   "execution_count": null,
   "metadata": {
    "collapsed": true
   },
   "outputs": [],
   "source": [
    "#slowing down the scrapper\n",
    "from time import sleep\n",
    "import random \n",
    "# wait ~1 seconds to grab a link\n",
    "sleep(random.uniform(.1,2))\""
   ]
  },
  {
   "cell_type": "code",
   "execution_count": null,
   "metadata": {
    "collapsed": true
   },
   "outputs": [],
   "source": [
    "#I need a next page Button\n",
    "for link in links[1:]:\n",
    "    text_url = 'https://www.yelp.com/search?find_desc=wine+bars&find_loc=Washington%2C+DC&start=10'\n",
    "     q = requests.get(next_url)\n",
    "     soup = BeautifulSoup(q.content)\n"
   ]
  },
  {
   "cell_type": "code",
   "execution_count": null,
   "metadata": {
    "collapsed": true
   },
   "outputs": [],
   "source": [
    "reviews = soup.find_all(\"p\", {\"itemprop\": \"description\"})\n",
    "    for review in reviews:\n",
    "    print review.text\n",
    "\n",
    "        info[review].append(review.text)"
   ]
  },
  {
   "cell_type": "code",
   "execution_count": 43,
   "metadata": {
    "collapsed": true
   },
   "outputs": [],
   "source": [
    "import pandas as pd "
   ]
  },
  {
   "cell_type": "code",
   "execution_count": 48,
   "metadata": {
    "collapsed": false
   },
   "outputs": [],
   "source": [
    "df = pd.DataFrame(records, columns=['review', 'rating', 'datepublished', 'author'])  \n",
    "df['datepublished'] = pd.to_datetime(df['datepublished'])  "
   ]
  },
  {
   "cell_type": "code",
   "execution_count": null,
   "metadata": {
    "collapsed": true
   },
   "outputs": [],
   "source": [
    "df.to_csv('yelp_scrap_flight.csv', index=False, encoding='utf-8')  "
   ]
  }
 ],
 "metadata": {
  "kernelspec": {
   "display_name": "Python 2",
   "language": "python",
   "name": "python2"
  },
  "language_info": {
   "codemirror_mode": {
    "name": "ipython",
    "version": 2
   },
   "file_extension": ".py",
   "mimetype": "text/x-python",
   "name": "python",
   "nbconvert_exporter": "python",
   "pygments_lexer": "ipython2",
   "version": "2.7.13"
  }
 },
 "nbformat": 4,
 "nbformat_minor": 2
}
