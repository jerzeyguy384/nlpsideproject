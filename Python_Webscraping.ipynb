{
 "cells": [
  {
   "cell_type": "markdown",
   "metadata": {},
   "source": [
    "# Yelp \"Scraping\"\n",
    "\n",
    "This is a script for using Yelp data."
   ]
  },
  {
   "cell_type": "markdown",
   "metadata": {},
   "source": []
  },
  {
   "cell_type": "code",
   "execution_count": 1,
   "metadata": {
    "collapsed": true
   },
   "outputs": [],
   "source": [
    "import requests\n",
    "import csv\n",
    "from bs4 import BeautifulSoup\n",
    "import pandas as pd\n",
    "from time import sleep"
   ]
  },
  {
   "cell_type": "markdown",
   "metadata": {},
   "source": [
    "## First, we need to read in our restaurant URL list"
   ]
  },
  {
   "cell_type": "code",
   "execution_count": null,
   "metadata": {
    "collapsed": true
   },
   "outputs": [],
   "source": []
  },
  {
   "cell_type": "code",
   "execution_count": null,
   "metadata": {
    "collapsed": true
   },
   "outputs": [],
   "source": []
  },
  {
   "cell_type": "markdown",
   "metadata": {},
   "source": [
    "## We now need to produce the list of ALL URLs we're going to scrpe"
   ]
  },
  {
   "cell_type": "code",
   "execution_count": 2,
   "metadata": {
    "collapsed": true
   },
   "outputs": [],
   "source": [
    "# write a function that identifies the number of pages for a given restuarant\n",
    "def get_num_pages(rest_url):\n",
    "    r = requests.get(rest_url)\n",
    "    soup = BeautifulSoup(r.text, 'html.parser')\n",
    "    pages = soup.find('div', {'class':'page-of-pages arrange_unit arrange_unit--fill'}).text\n",
    "    pages = int(pages.split(\"of\",1)[1].strip())\n",
    "    return(pages)"
   ]
  },
  {
   "cell_type": "code",
   "execution_count": 3,
   "metadata": {
    "collapsed": true
   },
   "outputs": [],
   "source": [
    "# write a function that takes a given number and base URL, it returns all necessary URLS\n",
    "# return list of all restaurant URLs\n",
    "def get_urls(rest_url):\n",
    "    pages = get_num_pages(rest_url)\n",
    "    urls = []\n",
    "    urls.append(rest_url)\n",
    "    for num in range(1,pages):\n",
    "        urls.append(rest_url + \"?start=\"+str(num*20))\n",
    "    return(urls)"
   ]
  },
  {
   "cell_type": "code",
   "execution_count": 4,
   "metadata": {},
   "outputs": [
    {
     "data": {
      "text/plain": [
       "['https://www.yelp.com/biz/flight-wine-bar-washington',\n",
       " 'https://www.yelp.com/biz/flight-wine-bar-washington?start=20',\n",
       " 'https://www.yelp.com/biz/flight-wine-bar-washington?start=40',\n",
       " 'https://www.yelp.com/biz/flight-wine-bar-washington?start=60',\n",
       " 'https://www.yelp.com/biz/flight-wine-bar-washington?start=80',\n",
       " 'https://www.yelp.com/biz/flight-wine-bar-washington?start=100',\n",
       " 'https://www.yelp.com/biz/flight-wine-bar-washington?start=120',\n",
       " 'https://www.yelp.com/biz/flight-wine-bar-washington?start=140',\n",
       " 'https://www.yelp.com/biz/flight-wine-bar-washington?start=160',\n",
       " 'https://www.yelp.com/biz/flight-wine-bar-washington?start=180']"
      ]
     },
     "execution_count": 4,
     "metadata": {},
     "output_type": "execute_result"
    }
   ],
   "source": [
    "# call the above function\n",
    "get_urls('https://www.yelp.com/biz/flight-wine-bar-washington')"
   ]
  },
  {
   "cell_type": "code",
   "execution_count": null,
   "metadata": {
    "collapsed": true
   },
   "outputs": [],
   "source": []
  },
  {
   "cell_type": "code",
   "execution_count": 5,
   "metadata": {},
   "outputs": [],
   "source": [
    "# at the end of this section, you should have a SINGLE LIST of all URLs"
   ]
  },
  {
   "cell_type": "code",
   "execution_count": null,
   "metadata": {
    "collapsed": true
   },
   "outputs": [],
   "source": []
  },
  {
   "cell_type": "markdown",
   "metadata": {},
   "source": [
    "## Use that master URL list to scrape each review"
   ]
  },
  {
   "cell_type": "code",
   "execution_count": 11,
   "metadata": {},
   "outputs": [
    {
     "ename": "IndentationError",
     "evalue": "expected an indented block (<ipython-input-11-600988b3f687>, line 16)",
     "output_type": "error",
     "traceback": [
      "\u001b[0;36m  File \u001b[0;32m\"<ipython-input-11-600988b3f687>\"\u001b[0;36m, line \u001b[0;32m16\u001b[0m\n\u001b[0;31m    for review in soup.find_all('p', attrs={'itemprop':'description'}):\u001b[0m\n\u001b[0m      ^\u001b[0m\n\u001b[0;31mIndentationError\u001b[0m\u001b[0;31m:\u001b[0m expected an indented block\n"
     ]
    }
   ],
   "source": [
    "# given a list of URLs, return a dataframe\n",
    "def scrape_yelp(rest_url_list):\n",
    "    # build df\n",
    "    yelp_data = pd.DataFrame(columns=['name','review','stars','date','location'])\n",
    "    \n",
    "    for url in rest_url_list:\n",
    "        f = requests.get(url)\n",
    "        soup = BeautifulSoup(f.text, 'html.parser')\n",
    "        \n",
    "        # get name\n",
    "        for user in soup.find_all('a', {'class':'user-display-name js-analytics-click'}):\n",
    "            # make a dictionary of all users\n",
    "            #print(user['href'])\n",
    "        \n",
    "        # get review\n",
    "        for review in soup.find_all('p', attrs={'itemprop':'description'}):\n",
    "            # make a dictionary of all reviews\n",
    "            # print(review.text)\n",
    "            \n",
    "        # get stars\n",
    "        for stars in soup.find_all('div', attrs={'itemprop':'reviewRating'}):\n",
    "            # make a dictionary of all stars\n",
    "            # print(stars.find('meta')['content'])\n",
    "            \n",
    "        # get date\n",
    "        for date in soup.find_all('meta', attrs={'itemprop':'datePublished'}):\n",
    "            # make a dictionary of all dates\n",
    "            # print(date)['content']\n",
    "            \n",
    "        # get location    \n",
    "        for loc in soup.find_all('li', {'class':'user-location responsive-hidden-small'}):\n",
    "            # make a dictionary of all locations\n",
    "            # print(loc.text.strip())\n",
    "            \n",
    "        # add all dictionaries to the df indexed by dictionary : column name; onto the next url"
   ]
  },
  {
   "cell_type": "code",
   "execution_count": null,
   "metadata": {
    "collapsed": true
   },
   "outputs": [],
   "source": [
    "rest_url_list = ['https://www.yelp.com/biz/flight-wine-bar-washington', 'https://www.yelp.com/biz/eno-wine-bar-washington']"
   ]
  },
  {
   "cell_type": "code",
   "execution_count": null,
   "metadata": {
    "scrolled": true
   },
   "outputs": [],
   "source": [
    "scrape_yelp(rest_url_list)"
   ]
  },
  {
   "cell_type": "code",
   "execution_count": null,
   "metadata": {
    "collapsed": true
   },
   "outputs": [],
   "source": []
  },
  {
   "cell_type": "code",
   "execution_count": null,
   "metadata": {
    "collapsed": true
   },
   "outputs": [],
   "source": []
  }
 ],
 "metadata": {
  "anaconda-cloud": {},
  "kernelspec": {
   "display_name": "Python [Root]",
   "language": "python",
   "name": "Python [Root]"
  },
  "language_info": {
   "codemirror_mode": {
    "name": "ipython",
    "version": 2
   },
   "file_extension": ".py",
   "mimetype": "text/x-python",
   "name": "python",
   "nbconvert_exporter": "python",
   "pygments_lexer": "ipython2",
   "version": "2.7.12"
  }
 },
 "nbformat": 4,
 "nbformat_minor": 2
}
