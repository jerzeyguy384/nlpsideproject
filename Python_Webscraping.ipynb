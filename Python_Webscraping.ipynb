{
 "cells": [
  {
   "cell_type": "code",
   "execution_count": 1,
   "metadata": {
    "collapsed": true
   },
   "outputs": [],
   "source": [
    "import requests"
   ]
  },
  {
   "cell_type": "code",
   "execution_count": 2,
   "metadata": {
    "collapsed": true
   },
   "outputs": [],
   "source": [
    "#I plan on repeating this process about 20 times\n",
    "#List includes Flight, \n",
    "f = requests.get('https://www.yelp.com/biz/flight-wine-bar-washington')"
   ]
  },
  {
   "cell_type": "code",
   "execution_count": 3,
   "metadata": {
    "collapsed": false
   },
   "outputs": [
    {
     "name": "stdout",
     "output_type": "stream",
     "text": [
      "<!DOCTYPE HTML>\n",
      "\n",
      "<!--[if lt IE 7 ]> <html xmlns:fb=\"http://www.facebook.com/2008/fbml\" class=\"ie6 ie ltie9 ltie8 no-js\" lang=\"en\"> <![endif]-->\n",
      "<!--[if IE 7 ]>    <html xmlns:fb=\"http://www.facebook.com/2008/fbml\" class=\"ie7 ie ltie9 ltie8 no-js\" lang=\"en\"> <![endif]-->\n",
      "<!--[if IE 8 ]>    <html xmlns:fb=\"http://www.facebook.com/2008/fbml\" class=\"ie8 ie ltie9 no-js\" lang=\"en\"> <![endif]-->\n",
      "<!--[if IE 9 ]>    <html xmlns:fb=\"http://www.facebook.com/2008/fbml\" class=\"ie9 ie no-js\" lang=\"en\"> <![end\n"
     ]
    }
   ],
   "source": [
    "# print the first 500 characters of the HTML\n",
    "print(f.text[0:500])"
   ]
  },
  {
   "cell_type": "code",
   "execution_count": 4,
   "metadata": {
    "collapsed": true
   },
   "outputs": [],
   "source": [
    "from bs4 import BeautifulSoup  "
   ]
  },
  {
   "cell_type": "code",
   "execution_count": 5,
   "metadata": {
    "collapsed": true
   },
   "outputs": [],
   "source": [
    "soup = BeautifulSoup(f.text, 'html.parser')"
   ]
  },
  {
   "cell_type": "code",
   "execution_count": 16,
   "metadata": {
    "collapsed": true
   },
   "outputs": [],
   "source": [
    "results = soup.find_all('script', attrs={'type':'application/ld+json'}) "
   ]
  },
  {
   "cell_type": "code",
   "execution_count": 17,
   "metadata": {
    "collapsed": false
   },
   "outputs": [
    {
     "data": {
      "text/plain": [
       "1"
      ]
     },
     "execution_count": 17,
     "metadata": {},
     "output_type": "execute_result"
    }
   ],
   "source": [
    "len(results)"
   ]
  },
  {
   "cell_type": "code",
   "execution_count": 19,
   "metadata": {
    "collapsed": false
   },
   "outputs": [
    {
     "data": {
      "text/plain": [
       "<script type=\"application/ld+json\">        {\"aggregateRating\": {\"reviewCount\": 189, \"@type\": \"AggregateRating\", \"ratingValue\": 4.0}, \"review\": [{\"reviewRating\": {\"ratingValue\": 4}, \"datePublished\": \"2017-07-19\", \"description\": \"What a great spot we came across while vacationing in D.C. We were looking for a wine bar, and I had this one bookmarked from when I was looking at places to check out while on vacation. \\\\n\\\\nIt was kind of empty when we arrived, but we still opted to sit at the bar. We had two women helping us which was nice because you never felt ignored. My girlfriend and I both ordered a wine flight, and we shared. I got the Sparkling Trio. They switched out one of the sparkling wines because I said I liked more of a dry wine. I kind of wish I would have stayed with what the original wine because the one they switched it to wasn't that good in my opinion. The others were delightful though. \\\\n\\\\nThis was a nice and fun environment. We decided not to order food here because we looked at some of the small plates and appetizers they had to offer, and nothing really stood out. We also saw them deliver some food to other patrons, and it was not our cup of tea. Still, the people who ordered their food seemed to like it so there's that. \\\\n\\\\nAll in all, I would come back to this place if I was ever in town again.\", \"author\": \"Kacey R.\"}, {\"reviewRating\": {\"ratingValue\": 4}, \"datePublished\": \"2017-07-12\", \"description\": \"We actually stopped here for wine and a meat and cheese tray, but turns out they had revamped their menu and didn't offer that any longer. \\\\n\\\\nThe wine list is absolutely overwhelming, but the bartenders are extremely knowledgeable and helped us navigate it. I had a German flight and my girlfriend had the sparkling flight and all six wines were good. The prices were pretty reasonable for the area. \\\\n\\\\nWe tried to go back a few days later, but even though Yelp said they were open, they were most definitely closed. Oddly their website just has opening times so I'm not really sure how much we missed them by.\", \"author\": \"Sarah C.\"}, {\"reviewRating\": {\"ratingValue\": 4}, \"datePublished\": \"2017-05-13\", \"description\": \"I came to Flight for a date night dinner with my significant other and loved the calm, romantic ambiance. The decor is full of natural wood-tones and metalic details. \\\\n\\\\nI was impressed with all the detail and care that went into creating the flights, all of which were based either type of wine, location, year, such as \\\\\"Old World Whites\\\\\" or \\\\\"Italian Reds\\\\\". We shared two different wine flights, and our server told us all about each wine in extreme detail. The level of information she had made the experience feel all the more fancy.\\\\n\\\\nThe plates are all quite small, but the flavors were huge! We shared the charcuterie plate, the pappardelle, and the octopus. The charcuterie and cheese plate was on the small side for the price, but the meats were tasty. I looooved the octopus, it had just the right amount of give when you bite into it, not rubbery at all. The pappardelle was delicious but gone in just a couple bites. \\\\n\\\\nThe prices are a little high to order as much food as one might need to feel like the had a full dinner, but definitely a wonderful spot to enjoy some wine and a nibble or two.\", \"author\": \"Katie B.\"}, {\"reviewRating\": {\"ratingValue\": 3}, \"datePublished\": \"2017-07-03\", \"description\": \"A lil' pricey and a bit esoteric with the menu, including items the average person probably has to Google for just about every dish in the limited menu.  Good wine, but I certainly wouldn't bank on this spot for a full dinner.  They were nice enough to bring around a complimentary dish from the chef that they said he was trying out, but the main ingredient was fava beans if I remember correctly, which was pretty bland and not something I think anyone generally goes out thinking, \\\\\"oh boy, tonight I'm gonna get me some of those fava beans!\\\\\" So they might want to reconsider that one. Honestly I think the menu needs a revision overall, I mean they removed charcuterie and cheese plate from the menu, which is a staple of pretty much any wine bar.\\\\nThe styling in the bar is nice, and makes me think of spots in Vegas or Miami, and the presentation on the dishes is very nice, but not a replacement for tasty menu choices.\", \"author\": \"Dan B.\"}, {\"reviewRating\": {\"ratingValue\": 4}, \"datePublished\": \"2017-09-03\", \"description\": \"A friend of mine first introduced me to this place and I've been back a few times now. The wine list is extensive, decently priced, and there is something for everyone. They have a good selection of wine flights too. The place itself gets neither too loud nor too crowded, even on a Friday or Saturday night, which is particularly nice if you want to relax and enjoy a good conversation. The only negative is that the food leaves something to be desired. The portions are small, overly priced, and the menu itself is not intuitive. Other than that, great wine bar and I definitely plan to be back in the near future.\", \"author\": \"Heena P.\"}, {\"reviewRating\": {\"ratingValue\": 3}, \"datePublished\": \"2017-04-11\", \"description\": \"We OpenTabled this at the last minute for a late dinner after a show at Sixth \\\\u0026 I.\\\\n\\\\nThe ambience was a bit like a \\\\\"dated airport lounge\\\\\" as one of my compatriots said. At 9 PM on a Saturday night, it felt like a 20 something hangout. Not the worst feeling, but not the best for four 40 somethings.\\\\n\\\\nIt is a wine bar, so let's start there. 2/3 of the flight of \\\\\"Not your Grandmother's Chardonnay\\\\\" was delicious. I love unoaked Burgundy chardonnays so the first on the list was wonderful. To my surprise, the unoaked from Virginia was also great. Now to find it in PA.\\\\n\\\\nThe server Sara was sweet and helpful. All smiles and went through the entire menu to find all of the vegetarian options for my wife.\\\\n\\\\nEverything here is a shareable portion. We treated them like tapas. Some more filling than others\\\\u200b. The pork cheeks were my favorite. The burrata a close second.\\\\n\\\\nTruth be told, had we had time to Yelp at 9 PM and actually get into another place, we would have. But then we wouldn't have found good wine and food, even if the decor leaves a bit to be desired. Don't get me wrong, the place was clean (including the bathroom). And we enjoyed our evening. Isn't that what's important?\\\\n\\\\nWe probably would have given it four stars had the panna cotta turn out to be  panna cotta.\", \"author\": \"Brian P.\"}, {\"reviewRating\": {\"ratingValue\": 4}, \"datePublished\": \"2016-10-15\", \"description\": \"Great place to sample a HUGE amount of wine. Pricey, but of course it's for getting a great selection of wine. The bartender who served us took the time to explain each wine that we were interested in drinking, and for the 3 for $18 deal that we ended up getting, she explained each one - meaning taste, year, history, and where it came from.\\\\n\\\\nGreat wine spot and date spot too. Ambiance was very nice. \\\\n\\\\nPlease go here if you are into wine.\", \"author\": \"Justin P.\"}, {\"reviewRating\": {\"ratingValue\": 4}, \"datePublished\": \"2016-12-13\", \"description\": \"Flight is a small wine bar in the chinatown area. Just far enough off the 7th street mayhem, Flight is an intimate spot perfect for catching up with girlfriends or date night. \\\\n\\\\nMy roommates and I were looking to try a bar in the chinatown neighborhood and ruled out that Flight was the one place all three of us had never been. We arrived on a chilly Friday evening and were warmly greeted by Fiona our bartender. She took care of us explaining the drink menu in detail and helped us choose some great flights. When our wine arrived she took the time to explain each glass (9 glasses between the three of us) and told us it's origin and so forth. \\\\n\\\\nWe ordered the Virginia flight, the sauvignon blanc flight and the Spanish reds flight. As a huge fan of sauvignon blanc, I wasn't a huge fan of this flight as all of the wines were infused with other things - not just sauvignon blanc. This seemed odd considering it was the \\\\\"sauvignon blanc\\\\\" flight but good to know for next time...\\\\n\\\\nThe clear winner of the night was definitely my roommate's spanish reds flight. She was obsessed and I definitely look forward to trying that one out next time! \\\\n\\\\nEven though I live in Penn Quarter, I never felt the urge to go into Flight because of the blacked out windows. I think if they allowed you to see in, more people would feel invited to come into the bar's cozy atmosphere. All in all, I look forward to making Flight my new spot for cozy low-key evenings!\", \"author\": \"Rebecca D.\"}, {\"reviewRating\": {\"ratingValue\": 1}, \"datePublished\": \"2017-03-13\", \"description\": \"I went here on Friday with a few girl friends and we had the most awkward experience. The wine was good but our waitress was horrible. \\\\n\\\\nMy girlfriend really doesn't like wine so she wanted to get a vodka drink and the waitress knew nothing about vodka and kept repeating - well I want to make sure you understand how much the vodka costs?- it was as if she didn't think we could afford it which was super appalling. And then on top of that, she wouldn't mix her soda water with the vodka so she kept bringing her vodka in one glass, ice cubes in another and then soda water in another. At one point, we noticed that she had 6 glasses. I've never seen anything like this. I understand that this place is a wine bar but she also didn't seem as if she knew what red wine is considered dry? I'm not sure if she was new or what but it didn't seem like a very challenging question. I won't be going back here anytime soon. \\\\n\\\\nSpend your money elsewhere with better waitresses!\", \"author\": \"Lauren L.\"}, {\"reviewRating\": {\"ratingValue\": 5}, \"datePublished\": \"2017-08-19\", \"description\": \"This is one of my absolute favorite wine bars in DC. The owner \\\\u0026 his wife are exceptionally knowledgeable about wine and will create you a custom wine flight based off your preferences. I went last night and they were so accommodating, and gave us several free tastings of wine. They said they would switch out any wine in our flights if we didn't like it. Cannot recommend Flight enough. Check it out!\", \"author\": \"Kelly N.\"}, {\"reviewRating\": {\"ratingValue\": 4}, \"datePublished\": \"2016-12-09\", \"description\": \"I met a friend here before a movie and was glad I did. I have been meaning to stop by and try Flight for quite awhile. It is a cute place down a set of stairs with a large \\\\\"C\\\\\" shaped bar in the back. There are quite a few small tables and a handful of larger ones.\\\\nThe wine list is extensive and has some tastes for everyone. I didn't try the flights, but the server was very knowledgeable about the wines I asked about. The menu is inline with the theme. I took advantage of happy hour and ordered a cheese and meat plate. You choose which meats and cheeses you would like. And it was delicious! Even the little extras they add to the plate go perfectly with the cheeses. OMG the honey. I am not sure why, but the honey they buy from some Pennsylvania Amish is the best I have ever tasted.\", \"author\": \"Lisa O.\"}, {\"reviewRating\": {\"ratingValue\": 5}, \"datePublished\": \"2017-03-23\", \"description\": \"Pasta to die for. Or at least make the trip out from pasta Mecca of NYC to DC for. \\\\n\\\\nSea urchin lemon pasta was shockingly good. Noodles had the perfect bite with a hint of lemon...I could eat this every day for the rest of the year. \\\\n\\\\nHazelnut paparadelle was rich, flavorful and a completely different kind of taste....I'm not as partial to heavier pastas but this was still Andrew Carmellini-levels of delicious. \\\\n\\\\nFinished with the Zabaglione, a divine fluffy citrous soup. Almost like if a melted creamsickle found a higher calling, marrying an italian meringue and two perfect little grapefruit wedges. I don't know. I miss Flight and can't wait to come back. I don't even drink.\", \"author\": \"Ash C.\"}, {\"reviewRating\": {\"ratingValue\": 4}, \"datePublished\": \"2016-02-08\", \"description\": \"Decent service and food.  It gets PACKED on weekend nights. I recently visited with my fianc\\\\u00e9 and I ordered a rose wine and he ordered a beer.  I also ordered the octopus appetizer, which was decent. They don't have a very big menu with very many choices.\\\\n\\\\nThe wine bar is located behind the Verizon Center near the corner of H \\\\u0026 6th St.  They have a really interesting bar area and I'd probably visit again for drinks (but not food).\", \"author\": \"Pegah Y.\"}, {\"reviewRating\": {\"ratingValue\": 4}, \"datePublished\": \"2016-11-17\", \"description\": \"Loved this place I came back. They have great wine flights that are at a reasonable price. The food menu isnt extensive so if you're looking for a big dinner this isn't the place. BUT what they do have is amazing charcuterie and cheese boards. My friend and I ordered the pasta with wild boar in it - literally best pasta I've had in the states. It's small so I would come early, but I've never had a problem getting a table or a seat at the bar.\", \"author\": \"Nicole Z.\"}, {\"reviewRating\": {\"ratingValue\": 4}, \"datePublished\": \"2016-11-08\", \"description\": \"In my dreams this it the restaurant/bar I would love to open in Boston. I can only comment on the bar, we came for an after dinner drink. The flights are reasonable with a full glass of wine between three samples. My niece learned a lot here about what she likes and does not like in wine.\\\\n\\\\nWere I not from Boston I would come back for the restaurant experience but can not do all things in one trip so I will just have to come back to DC!! Sexy, low key and just lovely!!! Thrilled we found this place by chance!\", \"author\": \"Denise M.\"}, {\"reviewRating\": {\"ratingValue\": 4}, \"datePublished\": \"2016-01-28\", \"description\": \"After getting the evening started at Poste, we moved our group of girls over to Flight.\\\\n\\\\nI had never been here before, but found the place quite to my liking right from the start. \\\\nTheir rustic decor creates a nice and warm atmosphere that literally invites you to hang out there for a longer period of time.\\\\n\\\\nWe were able to snatch a long table on the right side and decided to order a few dishes to share since everyone was hungry.\\\\n\\\\nHere is what we decided to get:\\\\n- Warm Spiced Olives \\\\n- Tagliolini Con Tartufo\\\\n- Mushroom Toast\\\\n- Cheese \\\\u0026 Charcuterie board for 5 with smoked speck, salami cured with fennel and Sangiovese, prosciutto, Beemster gouda and Bayley Hazen blue cheese\\\\n\\\\nAll food options were great, but my favorites were the pasta and the blue cheese.\\\\n\\\\nFor wines, we had a hard time deciding since their wine menu is massive.\\\\nEventually, we paired together in 2s and each pair ordered a couple of flights. \\\\nMy girl and I went with the \\\\\"Old World Whites\\\\\" and the \\\\\"Balkan Reds\\\\\".\\\\nAll wines were lovely, but I think I enjoyed the whites a bit more than the reds.\\\\n\\\\nAll in all, I had a lovely experience here and I can't wait to come back during my next visit to D.C.\", \"author\": \"Mel L.\"}, {\"reviewRating\": {\"ratingValue\": 4}, \"datePublished\": \"2016-01-18\", \"description\": \"YummmMMmmmyyyyy! \\\\n\\\\nExcellent atmosphere, attentive and prompt service and most importantly yummy food!\\\\n\\\\nMy two friends and I showed up for happy hour. The happy hour menu was surprisingly lush. There were several food options as well as beer and wine offered. I can't remember if there were any mixed drink option, I have selective attention to beer and wine only. \\\\n\\\\nThe prices for happy hour were very reasonable. Browsing the normal menu, I don't know that I would visit, just due to my very limited budget and frugality habits. The happy hour was very pleasing though. I had the butternug squash fritters, which were a little mushy on the inside (as expected) and crispy and well seasoned on the outside (yummerz for sure). I also sampled the meatball happy hour plate which came with two decently sized meatballs, doused in sauce with a hefty garlic bread portion on the side. Veryyyy delish. The meatballs were moist and seasoned well. Cooked to perfection. \\\\n\\\\nI would go back again when I'm in town, for the happy hour menu for sure!\", \"author\": \"Kendra Y.\"}, {\"reviewRating\": {\"ratingValue\": 4}, \"datePublished\": \"2016-06-11\", \"description\": \"Drinks - 5 stars\\\\nLayout/Decor - 3 stars\\\\n\\\\nDowntown DC needs more wine bars.  Don't get me wrong, I love Proof, but the bill can really add up sometimes, so it's nice to have a good, less expensive option nearby  Having said that, Flight is sort of an odd space; the curved bar with seats for 16 is interesting, with what appears to be a tree growing behind it, but the rest of it is a bit drab.   \\\\n\\\\nBut you're not really here for that are you?  You're here for the wine, and I'm here to tell you that it's worth the visit for their thoughtful and interesting selection.  Bored of Bordeaux?  Tired of Tempranillo?  Flight has unusual, inexpensive, and often overlooked grape varietals such a Serbian Prokupac, Hungarian Kekfrankos, and Georgian Rkatsiteli.  And since this is Flight, they of course serve flights of wine with choices such as the Ottoman Empire (whites from Greece, Slovenia, and Georgia) and Austro-Hungarian Empire (a mix of white and ros\\\\u00e9s from the aforementioned countries).  \\\\n\\\\nThe glassware is short and boxy, and pours are available in half and full pours.  No cocktails, but they offer liquor and four draft beers with another nine beers and ciders in bottles and cans, including Stillwater Stateside Saison and Evolution Lucky No. 7 Porter.  The food menu is short and skews Italian (charcuterie, cheese, and sausage for apps, and linguine with sardines and wild boar oso buco for mains).\", \"author\": \"Christopher C.\"}, {\"reviewRating\": {\"ratingValue\": 5}, \"datePublished\": \"2017-06-25\", \"description\": \"I had an amazing time the muscat was amazing!!! Our waitress Jessica was so helpful, she's so knowledgeable of the wine menu.\", \"author\": \"Stephanie B.\"}, {\"reviewRating\": {\"ratingValue\": 4}, \"datePublished\": \"2017-01-06\", \"description\": \"Flight is a go to for me for a nice glass or flight of wine.  The bar is really cool and the service has always been good.  They have some pretty cool themed flights and their food menu is solid to pair with their wines.  I always ask for recommendations and have never been disappointed.  They also offer monthly wine classes if you really love wine and enjoy learning about it.\", \"author\": \"Ron C.\"}], \"servesCuisine\": \"American (New)\", \"priceRange\": \"$11-30\", \"name\": \"Flight Wine Bar\", \"address\": {\"addressLocality\": \"Washington, DC\", \"addressRegion\": null, \"streetAddress\": \"777 6th St NW\", \"postalCode\": \"20001\", \"addressCountry\": \"US\"}, \"@context\": \"http://schema.org/\", \"image\": \"https://s3-media4.fl.yelpcdn.com/bphoto/IQ-VJKQ0Z1H7rz9Rtkrz6g/ls.jpg\", \"@type\": \"Restaurant\", \"telephone\": \"+12028646445\"}\\n</script>"
      ]
     },
     "execution_count": 19,
     "metadata": {},
     "output_type": "execute_result"
    }
   ],
   "source": [
    "results[0]"
   ]
  },
  {
   "cell_type": "code",
   "execution_count": 22,
   "metadata": {
    "collapsed": false
   },
   "outputs": [
    {
     "data": {
      "text/plain": [
       "<script type=\"application/ld+json\">        {\"aggregateRating\": {\"reviewCount\": 189, \"@type\": \"AggregateRating\", \"ratingValue\": 4.0}, \"review\": [{\"reviewRating\": {\"ratingValue\": 4}, \"datePublished\": \"2017-07-19\", \"description\": \"What a great spot we came across while vacationing in D.C. We were looking for a wine bar, and I had this one bookmarked from when I was looking at places to check out while on vacation. \\\\n\\\\nIt was kind of empty when we arrived, but we still opted to sit at the bar. We had two women helping us which was nice because you never felt ignored. My girlfriend and I both ordered a wine flight, and we shared. I got the Sparkling Trio. They switched out one of the sparkling wines because I said I liked more of a dry wine. I kind of wish I would have stayed with what the original wine because the one they switched it to wasn't that good in my opinion. The others were delightful though. \\\\n\\\\nThis was a nice and fun environment. We decided not to order food here because we looked at some of the small plates and appetizers they had to offer, and nothing really stood out. We also saw them deliver some food to other patrons, and it was not our cup of tea. Still, the people who ordered their food seemed to like it so there's that. \\\\n\\\\nAll in all, I would come back to this place if I was ever in town again.\", \"author\": \"Kacey R.\"}, {\"reviewRating\": {\"ratingValue\": 4}, \"datePublished\": \"2017-07-12\", \"description\": \"We actually stopped here for wine and a meat and cheese tray, but turns out they had revamped their menu and didn't offer that any longer. \\\\n\\\\nThe wine list is absolutely overwhelming, but the bartenders are extremely knowledgeable and helped us navigate it. I had a German flight and my girlfriend had the sparkling flight and all six wines were good. The prices were pretty reasonable for the area. \\\\n\\\\nWe tried to go back a few days later, but even though Yelp said they were open, they were most definitely closed. Oddly their website just has opening times so I'm not really sure how much we missed them by.\", \"author\": \"Sarah C.\"}, {\"reviewRating\": {\"ratingValue\": 4}, \"datePublished\": \"2017-05-13\", \"description\": \"I came to Flight for a date night dinner with my significant other and loved the calm, romantic ambiance. The decor is full of natural wood-tones and metalic details. \\\\n\\\\nI was impressed with all the detail and care that went into creating the flights, all of which were based either type of wine, location, year, such as \\\\\"Old World Whites\\\\\" or \\\\\"Italian Reds\\\\\". We shared two different wine flights, and our server told us all about each wine in extreme detail. The level of information she had made the experience feel all the more fancy.\\\\n\\\\nThe plates are all quite small, but the flavors were huge! We shared the charcuterie plate, the pappardelle, and the octopus. The charcuterie and cheese plate was on the small side for the price, but the meats were tasty. I looooved the octopus, it had just the right amount of give when you bite into it, not rubbery at all. The pappardelle was delicious but gone in just a couple bites. \\\\n\\\\nThe prices are a little high to order as much food as one might need to feel like the had a full dinner, but definitely a wonderful spot to enjoy some wine and a nibble or two.\", \"author\": \"Katie B.\"}, {\"reviewRating\": {\"ratingValue\": 3}, \"datePublished\": \"2017-07-03\", \"description\": \"A lil' pricey and a bit esoteric with the menu, including items the average person probably has to Google for just about every dish in the limited menu.  Good wine, but I certainly wouldn't bank on this spot for a full dinner.  They were nice enough to bring around a complimentary dish from the chef that they said he was trying out, but the main ingredient was fava beans if I remember correctly, which was pretty bland and not something I think anyone generally goes out thinking, \\\\\"oh boy, tonight I'm gonna get me some of those fava beans!\\\\\" So they might want to reconsider that one. Honestly I think the menu needs a revision overall, I mean they removed charcuterie and cheese plate from the menu, which is a staple of pretty much any wine bar.\\\\nThe styling in the bar is nice, and makes me think of spots in Vegas or Miami, and the presentation on the dishes is very nice, but not a replacement for tasty menu choices.\", \"author\": \"Dan B.\"}, {\"reviewRating\": {\"ratingValue\": 4}, \"datePublished\": \"2017-09-03\", \"description\": \"A friend of mine first introduced me to this place and I've been back a few times now. The wine list is extensive, decently priced, and there is something for everyone. They have a good selection of wine flights too. The place itself gets neither too loud nor too crowded, even on a Friday or Saturday night, which is particularly nice if you want to relax and enjoy a good conversation. The only negative is that the food leaves something to be desired. The portions are small, overly priced, and the menu itself is not intuitive. Other than that, great wine bar and I definitely plan to be back in the near future.\", \"author\": \"Heena P.\"}, {\"reviewRating\": {\"ratingValue\": 3}, \"datePublished\": \"2017-04-11\", \"description\": \"We OpenTabled this at the last minute for a late dinner after a show at Sixth \\\\u0026 I.\\\\n\\\\nThe ambience was a bit like a \\\\\"dated airport lounge\\\\\" as one of my compatriots said. At 9 PM on a Saturday night, it felt like a 20 something hangout. Not the worst feeling, but not the best for four 40 somethings.\\\\n\\\\nIt is a wine bar, so let's start there. 2/3 of the flight of \\\\\"Not your Grandmother's Chardonnay\\\\\" was delicious. I love unoaked Burgundy chardonnays so the first on the list was wonderful. To my surprise, the unoaked from Virginia was also great. Now to find it in PA.\\\\n\\\\nThe server Sara was sweet and helpful. All smiles and went through the entire menu to find all of the vegetarian options for my wife.\\\\n\\\\nEverything here is a shareable portion. We treated them like tapas. Some more filling than others\\\\u200b. The pork cheeks were my favorite. The burrata a close second.\\\\n\\\\nTruth be told, had we had time to Yelp at 9 PM and actually get into another place, we would have. But then we wouldn't have found good wine and food, even if the decor leaves a bit to be desired. Don't get me wrong, the place was clean (including the bathroom). And we enjoyed our evening. Isn't that what's important?\\\\n\\\\nWe probably would have given it four stars had the panna cotta turn out to be  panna cotta.\", \"author\": \"Brian P.\"}, {\"reviewRating\": {\"ratingValue\": 4}, \"datePublished\": \"2016-10-15\", \"description\": \"Great place to sample a HUGE amount of wine. Pricey, but of course it's for getting a great selection of wine. The bartender who served us took the time to explain each wine that we were interested in drinking, and for the 3 for $18 deal that we ended up getting, she explained each one - meaning taste, year, history, and where it came from.\\\\n\\\\nGreat wine spot and date spot too. Ambiance was very nice. \\\\n\\\\nPlease go here if you are into wine.\", \"author\": \"Justin P.\"}, {\"reviewRating\": {\"ratingValue\": 4}, \"datePublished\": \"2016-12-13\", \"description\": \"Flight is a small wine bar in the chinatown area. Just far enough off the 7th street mayhem, Flight is an intimate spot perfect for catching up with girlfriends or date night. \\\\n\\\\nMy roommates and I were looking to try a bar in the chinatown neighborhood and ruled out that Flight was the one place all three of us had never been. We arrived on a chilly Friday evening and were warmly greeted by Fiona our bartender. She took care of us explaining the drink menu in detail and helped us choose some great flights. When our wine arrived she took the time to explain each glass (9 glasses between the three of us) and told us it's origin and so forth. \\\\n\\\\nWe ordered the Virginia flight, the sauvignon blanc flight and the Spanish reds flight. As a huge fan of sauvignon blanc, I wasn't a huge fan of this flight as all of the wines were infused with other things - not just sauvignon blanc. This seemed odd considering it was the \\\\\"sauvignon blanc\\\\\" flight but good to know for next time...\\\\n\\\\nThe clear winner of the night was definitely my roommate's spanish reds flight. She was obsessed and I definitely look forward to trying that one out next time! \\\\n\\\\nEven though I live in Penn Quarter, I never felt the urge to go into Flight because of the blacked out windows. I think if they allowed you to see in, more people would feel invited to come into the bar's cozy atmosphere. All in all, I look forward to making Flight my new spot for cozy low-key evenings!\", \"author\": \"Rebecca D.\"}, {\"reviewRating\": {\"ratingValue\": 1}, \"datePublished\": \"2017-03-13\", \"description\": \"I went here on Friday with a few girl friends and we had the most awkward experience. The wine was good but our waitress was horrible. \\\\n\\\\nMy girlfriend really doesn't like wine so she wanted to get a vodka drink and the waitress knew nothing about vodka and kept repeating - well I want to make sure you understand how much the vodka costs?- it was as if she didn't think we could afford it which was super appalling. And then on top of that, she wouldn't mix her soda water with the vodka so she kept bringing her vodka in one glass, ice cubes in another and then soda water in another. At one point, we noticed that she had 6 glasses. I've never seen anything like this. I understand that this place is a wine bar but she also didn't seem as if she knew what red wine is considered dry? I'm not sure if she was new or what but it didn't seem like a very challenging question. I won't be going back here anytime soon. \\\\n\\\\nSpend your money elsewhere with better waitresses!\", \"author\": \"Lauren L.\"}, {\"reviewRating\": {\"ratingValue\": 5}, \"datePublished\": \"2017-08-19\", \"description\": \"This is one of my absolute favorite wine bars in DC. The owner \\\\u0026 his wife are exceptionally knowledgeable about wine and will create you a custom wine flight based off your preferences. I went last night and they were so accommodating, and gave us several free tastings of wine. They said they would switch out any wine in our flights if we didn't like it. Cannot recommend Flight enough. Check it out!\", \"author\": \"Kelly N.\"}, {\"reviewRating\": {\"ratingValue\": 4}, \"datePublished\": \"2016-12-09\", \"description\": \"I met a friend here before a movie and was glad I did. I have been meaning to stop by and try Flight for quite awhile. It is a cute place down a set of stairs with a large \\\\\"C\\\\\" shaped bar in the back. There are quite a few small tables and a handful of larger ones.\\\\nThe wine list is extensive and has some tastes for everyone. I didn't try the flights, but the server was very knowledgeable about the wines I asked about. The menu is inline with the theme. I took advantage of happy hour and ordered a cheese and meat plate. You choose which meats and cheeses you would like. And it was delicious! Even the little extras they add to the plate go perfectly with the cheeses. OMG the honey. I am not sure why, but the honey they buy from some Pennsylvania Amish is the best I have ever tasted.\", \"author\": \"Lisa O.\"}, {\"reviewRating\": {\"ratingValue\": 5}, \"datePublished\": \"2017-03-23\", \"description\": \"Pasta to die for. Or at least make the trip out from pasta Mecca of NYC to DC for. \\\\n\\\\nSea urchin lemon pasta was shockingly good. Noodles had the perfect bite with a hint of lemon...I could eat this every day for the rest of the year. \\\\n\\\\nHazelnut paparadelle was rich, flavorful and a completely different kind of taste....I'm not as partial to heavier pastas but this was still Andrew Carmellini-levels of delicious. \\\\n\\\\nFinished with the Zabaglione, a divine fluffy citrous soup. Almost like if a melted creamsickle found a higher calling, marrying an italian meringue and two perfect little grapefruit wedges. I don't know. I miss Flight and can't wait to come back. I don't even drink.\", \"author\": \"Ash C.\"}, {\"reviewRating\": {\"ratingValue\": 4}, \"datePublished\": \"2016-02-08\", \"description\": \"Decent service and food.  It gets PACKED on weekend nights. I recently visited with my fianc\\\\u00e9 and I ordered a rose wine and he ordered a beer.  I also ordered the octopus appetizer, which was decent. They don't have a very big menu with very many choices.\\\\n\\\\nThe wine bar is located behind the Verizon Center near the corner of H \\\\u0026 6th St.  They have a really interesting bar area and I'd probably visit again for drinks (but not food).\", \"author\": \"Pegah Y.\"}, {\"reviewRating\": {\"ratingValue\": 4}, \"datePublished\": \"2016-11-17\", \"description\": \"Loved this place I came back. They have great wine flights that are at a reasonable price. The food menu isnt extensive so if you're looking for a big dinner this isn't the place. BUT what they do have is amazing charcuterie and cheese boards. My friend and I ordered the pasta with wild boar in it - literally best pasta I've had in the states. It's small so I would come early, but I've never had a problem getting a table or a seat at the bar.\", \"author\": \"Nicole Z.\"}, {\"reviewRating\": {\"ratingValue\": 4}, \"datePublished\": \"2016-11-08\", \"description\": \"In my dreams this it the restaurant/bar I would love to open in Boston. I can only comment on the bar, we came for an after dinner drink. The flights are reasonable with a full glass of wine between three samples. My niece learned a lot here about what she likes and does not like in wine.\\\\n\\\\nWere I not from Boston I would come back for the restaurant experience but can not do all things in one trip so I will just have to come back to DC!! Sexy, low key and just lovely!!! Thrilled we found this place by chance!\", \"author\": \"Denise M.\"}, {\"reviewRating\": {\"ratingValue\": 4}, \"datePublished\": \"2016-01-28\", \"description\": \"After getting the evening started at Poste, we moved our group of girls over to Flight.\\\\n\\\\nI had never been here before, but found the place quite to my liking right from the start. \\\\nTheir rustic decor creates a nice and warm atmosphere that literally invites you to hang out there for a longer period of time.\\\\n\\\\nWe were able to snatch a long table on the right side and decided to order a few dishes to share since everyone was hungry.\\\\n\\\\nHere is what we decided to get:\\\\n- Warm Spiced Olives \\\\n- Tagliolini Con Tartufo\\\\n- Mushroom Toast\\\\n- Cheese \\\\u0026 Charcuterie board for 5 with smoked speck, salami cured with fennel and Sangiovese, prosciutto, Beemster gouda and Bayley Hazen blue cheese\\\\n\\\\nAll food options were great, but my favorites were the pasta and the blue cheese.\\\\n\\\\nFor wines, we had a hard time deciding since their wine menu is massive.\\\\nEventually, we paired together in 2s and each pair ordered a couple of flights. \\\\nMy girl and I went with the \\\\\"Old World Whites\\\\\" and the \\\\\"Balkan Reds\\\\\".\\\\nAll wines were lovely, but I think I enjoyed the whites a bit more than the reds.\\\\n\\\\nAll in all, I had a lovely experience here and I can't wait to come back during my next visit to D.C.\", \"author\": \"Mel L.\"}, {\"reviewRating\": {\"ratingValue\": 4}, \"datePublished\": \"2016-01-18\", \"description\": \"YummmMMmmmyyyyy! \\\\n\\\\nExcellent atmosphere, attentive and prompt service and most importantly yummy food!\\\\n\\\\nMy two friends and I showed up for happy hour. The happy hour menu was surprisingly lush. There were several food options as well as beer and wine offered. I can't remember if there were any mixed drink option, I have selective attention to beer and wine only. \\\\n\\\\nThe prices for happy hour were very reasonable. Browsing the normal menu, I don't know that I would visit, just due to my very limited budget and frugality habits. The happy hour was very pleasing though. I had the butternug squash fritters, which were a little mushy on the inside (as expected) and crispy and well seasoned on the outside (yummerz for sure). I also sampled the meatball happy hour plate which came with two decently sized meatballs, doused in sauce with a hefty garlic bread portion on the side. Veryyyy delish. The meatballs were moist and seasoned well. Cooked to perfection. \\\\n\\\\nI would go back again when I'm in town, for the happy hour menu for sure!\", \"author\": \"Kendra Y.\"}, {\"reviewRating\": {\"ratingValue\": 4}, \"datePublished\": \"2016-06-11\", \"description\": \"Drinks - 5 stars\\\\nLayout/Decor - 3 stars\\\\n\\\\nDowntown DC needs more wine bars.  Don't get me wrong, I love Proof, but the bill can really add up sometimes, so it's nice to have a good, less expensive option nearby  Having said that, Flight is sort of an odd space; the curved bar with seats for 16 is interesting, with what appears to be a tree growing behind it, but the rest of it is a bit drab.   \\\\n\\\\nBut you're not really here for that are you?  You're here for the wine, and I'm here to tell you that it's worth the visit for their thoughtful and interesting selection.  Bored of Bordeaux?  Tired of Tempranillo?  Flight has unusual, inexpensive, and often overlooked grape varietals such a Serbian Prokupac, Hungarian Kekfrankos, and Georgian Rkatsiteli.  And since this is Flight, they of course serve flights of wine with choices such as the Ottoman Empire (whites from Greece, Slovenia, and Georgia) and Austro-Hungarian Empire (a mix of white and ros\\\\u00e9s from the aforementioned countries).  \\\\n\\\\nThe glassware is short and boxy, and pours are available in half and full pours.  No cocktails, but they offer liquor and four draft beers with another nine beers and ciders in bottles and cans, including Stillwater Stateside Saison and Evolution Lucky No. 7 Porter.  The food menu is short and skews Italian (charcuterie, cheese, and sausage for apps, and linguine with sardines and wild boar oso buco for mains).\", \"author\": \"Christopher C.\"}, {\"reviewRating\": {\"ratingValue\": 5}, \"datePublished\": \"2017-06-25\", \"description\": \"I had an amazing time the muscat was amazing!!! Our waitress Jessica was so helpful, she's so knowledgeable of the wine menu.\", \"author\": \"Stephanie B.\"}, {\"reviewRating\": {\"ratingValue\": 4}, \"datePublished\": \"2017-01-06\", \"description\": \"Flight is a go to for me for a nice glass or flight of wine.  The bar is really cool and the service has always been good.  They have some pretty cool themed flights and their food menu is solid to pair with their wines.  I always ask for recommendations and have never been disappointed.  They also offer monthly wine classes if you really love wine and enjoy learning about it.\", \"author\": \"Ron C.\"}], \"servesCuisine\": \"American (New)\", \"priceRange\": \"$11-30\", \"name\": \"Flight Wine Bar\", \"address\": {\"addressLocality\": \"Washington, DC\", \"addressRegion\": null, \"streetAddress\": \"777 6th St NW\", \"postalCode\": \"20001\", \"addressCountry\": \"US\"}, \"@context\": \"http://schema.org/\", \"image\": \"https://s3-media4.fl.yelpcdn.com/bphoto/IQ-VJKQ0Z1H7rz9Rtkrz6g/ls.jpg\", \"@type\": \"Restaurant\", \"telephone\": \"+12028646445\"}\\n</script>"
      ]
     },
     "execution_count": 22,
     "metadata": {},
     "output_type": "execute_result"
    }
   ],
   "source": [
    "first_results = results[0]\n",
    "first_results"
   ]
  },
  {
   "cell_type": "code",
   "execution_count": 60,
   "metadata": {
    "collapsed": false
   },
   "outputs": [],
   "source": [
    "#I limited the categories to four columns. rating, users, dates, and review.\n",
    "records = []  \n",
    "for result in results:\n",
    "review = first_results.find('p', attrs={'itemprop':'description'})\n",
    "rating = first_results.find('div', attrs={'itemprop':'ratingValue'})\n",
    "date_published = first_results.find('div', attrs={'itemprop':'datePublished'})\n",
    "author = first_results.find('meta', attrs={'itemprop':'author'})"
   ]
  },
  {
   "cell_type": "code",
   "execution_count": null,
   "metadata": {
    "collapsed": true
   },
   "outputs": [],
   "source": [
    "#I need a next page Button\n",
    "for link in links[1:]:\n",
    "    text_url = 'https://www.yelp.com/search?find_desc=wine+bars&find_loc=Washington%2C+DC&start=10'\n",
    "     q = requests.get(next_url)\n",
    "     soup = BeautifulSoup(q.content)"
   ]
  },
  {
   "cell_type": "code",
   "execution_count": null,
   "metadata": {
    "collapsed": true
   },
   "outputs": [],
   "source": [
    "reviews = soup.find_all(\"p\", {\"itemprop\": \"description\"})\n",
    "    for review in reviews:\n",
    "    print review.text\n",
    "\n",
    "        info[review].append(review.text)"
   ]
  },
  {
   "cell_type": "code",
   "execution_count": 43,
   "metadata": {
    "collapsed": true
   },
   "outputs": [],
   "source": [
    "import pandas as pd "
   ]
  },
  {
   "cell_type": "code",
   "execution_count": 48,
   "metadata": {
    "collapsed": false
   },
   "outputs": [],
   "source": [
    "df = pd.DataFrame(records, columns=['review', 'rating', 'date_published', 'author'])  \n",
    "df['date_published'] = pd.to_datetime(df['date_published'])  "
   ]
  },
  {
   "cell_type": "code",
   "execution_count": null,
   "metadata": {
    "collapsed": true
   },
   "outputs": [],
   "source": [
    "df.to_csv('yelp_scrap_flight.csv', index=False, encoding='utf-8')  "
   ]
  }
 ],
 "metadata": {
  "kernelspec": {
   "display_name": "Python 2",
   "language": "python",
   "name": "python2"
  },
  "language_info": {
   "codemirror_mode": {
    "name": "ipython",
    "version": 2
   },
   "file_extension": ".py",
   "mimetype": "text/x-python",
   "name": "python",
   "nbconvert_exporter": "python",
   "pygments_lexer": "ipython2",
   "version": "2.7.13"
  }
 },
 "nbformat": 4,
 "nbformat_minor": 2
}
