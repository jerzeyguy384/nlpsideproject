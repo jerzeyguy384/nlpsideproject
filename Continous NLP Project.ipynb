{
 "cells": [
  {
   "cell_type": "markdown",
   "metadata": {},
   "source": [
    "### Natural Language Processing"
   ]
  },
  {
   "cell_type": "markdown",
   "metadata": {},
   "source": [
    "*Adapted from [NLP Crash Course](http://files.meetup.com/7616132/DC-NLP-2013-09%20Charlie%20Greenbacker.pdf) by Charlie Greenbacker, [Introduction to NLP](http://spark-public.s3.amazonaws.com/nlp/slides/intro.pdf) by Dan Jurafsky, Kevin Markham's Data School Curriculum*"
   ]
  },
  {
   "cell_type": "code",
   "execution_count": 1,
   "metadata": {
    "collapsed": false
   },
   "outputs": [
    {
     "name": "stderr",
     "output_type": "stream",
     "text": [
      "C:\\Users\\Pedro\\Anaconda2\\lib\\site-packages\\sklearn\\cross_validation.py:44: DeprecationWarning: This module was deprecated in version 0.18 in favor of the model_selection module into which all the refactored classes and functions are moved. Also note that the interface of the new CV iterators are different from that of this module. This module will be removed in 0.20.\n",
      "  \"This module will be removed in 0.20.\", DeprecationWarning)\n",
      "C:\\Users\\Pedro\\Anaconda2\\lib\\site-packages\\gensim\\utils.py:855: UserWarning: detected Windows; aliasing chunkize to chunkize_serial\n",
      "  warnings.warn(\"detected Windows; aliasing chunkize to chunkize_serial\")\n"
     ]
    }
   ],
   "source": [
    "import glob\n",
    "import pandas as pd\n",
    "import numpy as np\n",
    "import scipy as sp\n",
    "from sklearn.cross_validation import train_test_split\n",
    "from sklearn.feature_extraction.text import CountVectorizer, TfidfVectorizer\n",
    "from sklearn.naive_bayes import MultinomialNB\n",
    "from sklearn.linear_model import LogisticRegression\n",
    "from sklearn import metrics\n",
    "from textblob import TextBlob, Word\n",
    "from nltk.stem.snowball import SnowballStemmer\n",
    "%matplotlib inline\n",
    "\n",
    "from nltk.corpus import stopwords\n",
    "from string import punctuation\n",
    "from spacy.en import English\n",
    "import gensim\n",
    "from gensim.models.word2vec import Word2Vec\n",
    "from gensim.models.ldamodel import LdaModel\n",
    "from gensim.matutils import Sparse2Corpus"
   ]
  },
  {
   "cell_type": "code",
   "execution_count": 2,
   "metadata": {
    "collapsed": true
   },
   "outputs": [],
   "source": [
    "from sklearn.cross_validation import train_test_split"
   ]
  },
  {
   "cell_type": "code",
   "execution_count": 18,
   "metadata": {
    "collapsed": false,
    "scrolled": true
   },
   "outputs": [],
   "source": [
    "#Combining CSV Files\n",
    "#C:\\Users\\Pedro\\Documents\\nlpsideproject\\data\n",
    "fout=open(\"compiled_master.csv\",\"a\") #remember to change this number\n",
    "# first file:\n",
    "for line in open(\"C:/Users/Pedro/Documents/nlpsideproject/Compiled_Folders/compiled0.csv\"):\n",
    "    fout.write(line)\n",
    "# now the rest:    \n",
    "for num in range(1,11):\n",
    "    f = open(\"C:/Users/Pedro/Documents/nlpsideproject/Compiled_Folders/compiled\"+str(num)+\".csv\")\n",
    "    f.next() # skip the header\n",
    "    for line in f:\n",
    "         fout.write(line)\n",
    "    f.close() # not really needed\n",
    "fout.close()"
   ]
  },
  {
   "cell_type": "code",
   "execution_count": 19,
   "metadata": {
    "collapsed": true
   },
   "outputs": [],
   "source": [
    "url = 'C:/Users/Pedro/Documents/nlpsideproject/compiled_master.csv'"
   ]
  },
  {
   "cell_type": "code",
   "execution_count": 20,
   "metadata": {
    "collapsed": false,
    "scrolled": true
   },
   "outputs": [],
   "source": [
    "yelp = pd.read_csv(url)"
   ]
  },
  {
   "cell_type": "code",
   "execution_count": 21,
   "metadata": {
    "collapsed": false
   },
   "outputs": [
    {
     "data": {
      "text/html": [
       "<div>\n",
       "<table border=\"1\" class=\"dataframe\">\n",
       "  <thead>\n",
       "    <tr style=\"text-align: right;\">\n",
       "      <th></th>\n",
       "      <th>rest_name</th>\n",
       "      <th>username</th>\n",
       "      <th>review</th>\n",
       "      <th>stars</th>\n",
       "      <th>date</th>\n",
       "      <th>location</th>\n",
       "    </tr>\n",
       "  </thead>\n",
       "  <tbody>\n",
       "    <tr>\n",
       "      <th>0</th>\n",
       "      <td>La Jambe</td>\n",
       "      <td>/user_details?userid=GBjdziANdkk29jjwOBj5ow</td>\n",
       "      <td>This review is massively overdue (I don't writ...</td>\n",
       "      <td>5.0</td>\n",
       "      <td>8/25/2017</td>\n",
       "      <td>Washington, DC</td>\n",
       "    </tr>\n",
       "    <tr>\n",
       "      <th>1</th>\n",
       "      <td>La Jambe</td>\n",
       "      <td>/user_details?userid=X3Ki2Z6JTn9gbuz23NO3kg</td>\n",
       "      <td>My friends and I were looking for a good happy...</td>\n",
       "      <td>4.0</td>\n",
       "      <td>9/25/2017</td>\n",
       "      <td>Washington, DC</td>\n",
       "    </tr>\n",
       "    <tr>\n",
       "      <th>2</th>\n",
       "      <td>La Jambe</td>\n",
       "      <td>/user_details?userid=dOYJX2FBw5FXDBwXZZoq7A</td>\n",
       "      <td>Elegant and intimate - La Jambe has an unexpec...</td>\n",
       "      <td>4.0</td>\n",
       "      <td>8/11/2017</td>\n",
       "      <td>Washington, DC</td>\n",
       "    </tr>\n",
       "    <tr>\n",
       "      <th>3</th>\n",
       "      <td>La Jambe</td>\n",
       "      <td>/user_details?userid=ZaJ6zPDAc7YaDTE2QEBGPA</td>\n",
       "      <td>This place is really special. If your in the a...</td>\n",
       "      <td>5.0</td>\n",
       "      <td>7/23/2017</td>\n",
       "      <td>Red Bank, NJ</td>\n",
       "    </tr>\n",
       "    <tr>\n",
       "      <th>4</th>\n",
       "      <td>La Jambe</td>\n",
       "      <td>/user_details?userid=mz8Q8yEOkgjaISIqzUSHLg</td>\n",
       "      <td>Hooray for happy hour! $5 for delicious wines?...</td>\n",
       "      <td>4.0</td>\n",
       "      <td>7/10/2017</td>\n",
       "      <td>Washington, DC</td>\n",
       "    </tr>\n",
       "  </tbody>\n",
       "</table>\n",
       "</div>"
      ],
      "text/plain": [
       "  rest_name                                     username  \\\n",
       "0  La Jambe  /user_details?userid=GBjdziANdkk29jjwOBj5ow   \n",
       "1  La Jambe  /user_details?userid=X3Ki2Z6JTn9gbuz23NO3kg   \n",
       "2  La Jambe  /user_details?userid=dOYJX2FBw5FXDBwXZZoq7A   \n",
       "3  La Jambe  /user_details?userid=ZaJ6zPDAc7YaDTE2QEBGPA   \n",
       "4  La Jambe  /user_details?userid=mz8Q8yEOkgjaISIqzUSHLg   \n",
       "\n",
       "                                              review  stars       date  \\\n",
       "0  This review is massively overdue (I don't writ...    5.0  8/25/2017   \n",
       "1  My friends and I were looking for a good happy...    4.0  9/25/2017   \n",
       "2  Elegant and intimate - La Jambe has an unexpec...    4.0  8/11/2017   \n",
       "3  This place is really special. If your in the a...    5.0  7/23/2017   \n",
       "4  Hooray for happy hour! $5 for delicious wines?...    4.0  7/10/2017   \n",
       "\n",
       "         location  \n",
       "0  Washington, DC  \n",
       "1  Washington, DC  \n",
       "2  Washington, DC  \n",
       "3    Red Bank, NJ  \n",
       "4  Washington, DC  "
      ]
     },
     "execution_count": 21,
     "metadata": {},
     "output_type": "execute_result"
    }
   ],
   "source": [
    "yelp.head()"
   ]
  },
  {
   "cell_type": "code",
   "execution_count": 32,
   "metadata": {
    "collapsed": false
   },
   "outputs": [
    {
     "data": {
      "text/html": [
       "<div>\n",
       "<table border=\"1\" class=\"dataframe\">\n",
       "  <thead>\n",
       "    <tr style=\"text-align: right;\">\n",
       "      <th></th>\n",
       "      <th>rest_name</th>\n",
       "      <th>username</th>\n",
       "      <th>review</th>\n",
       "      <th>stars</th>\n",
       "      <th>date</th>\n",
       "      <th>location</th>\n",
       "    </tr>\n",
       "  </thead>\n",
       "  <tbody>\n",
       "    <tr>\n",
       "      <th>4910</th>\n",
       "      <td>Bistrot Lepic &amp; Wine Bar</td>\n",
       "      <td>/user_details?userid=vNRe0RRTlY4j81emCo-ing</td>\n",
       "      <td>Great atmosphere, the main entree food was fab...</td>\n",
       "      <td>5.0</td>\n",
       "      <td>2010-02-22</td>\n",
       "      <td>Arlington, VA</td>\n",
       "    </tr>\n",
       "    <tr>\n",
       "      <th>4911</th>\n",
       "      <td>Bistrot Lepic &amp; Wine Bar</td>\n",
       "      <td>/user_details?userid=BLGacZ-LtaiJUZ4xmB1EDg</td>\n",
       "      <td>What a rip off!!! We went for Christmas dinner...</td>\n",
       "      <td>2.0</td>\n",
       "      <td>2009-01-09</td>\n",
       "      <td>Washington, DC</td>\n",
       "    </tr>\n",
       "    <tr>\n",
       "      <th>4912</th>\n",
       "      <td>Bistrot Lepic &amp; Wine Bar</td>\n",
       "      <td>/user_details?userid=23tTzYqjrP4IhtvLupfp7w</td>\n",
       "      <td>Loved it!  Came here recently on a second trip...</td>\n",
       "      <td>5.0</td>\n",
       "      <td>2009-07-30</td>\n",
       "      <td>Washington, DC</td>\n",
       "    </tr>\n",
       "    <tr>\n",
       "      <th>4913</th>\n",
       "      <td>Bistrot Lepic &amp; Wine Bar</td>\n",
       "      <td>/user_details?userid=VlI1CxW1VawvH_vv7t2mEg</td>\n",
       "      <td>I have been to Bistro Lepic quite a few times ...</td>\n",
       "      <td>1.0</td>\n",
       "      <td>2013-06-03</td>\n",
       "      <td>Georgetown, Washington, DC</td>\n",
       "    </tr>\n",
       "    <tr>\n",
       "      <th>4914</th>\n",
       "      <td>Bistrot Lepic &amp; Wine Bar</td>\n",
       "      <td>/user_details?userid=Fc1HSIgVqlXyvYkUV7yvsg</td>\n",
       "      <td>I took my boyfriend here recently for his birt...</td>\n",
       "      <td>4.0</td>\n",
       "      <td>2009-01-27</td>\n",
       "      <td>Rockville, MD</td>\n",
       "    </tr>\n",
       "  </tbody>\n",
       "</table>\n",
       "</div>"
      ],
      "text/plain": [
       "                     rest_name                                     username  \\\n",
       "4910  Bistrot Lepic & Wine Bar  /user_details?userid=vNRe0RRTlY4j81emCo-ing   \n",
       "4911  Bistrot Lepic & Wine Bar  /user_details?userid=BLGacZ-LtaiJUZ4xmB1EDg   \n",
       "4912  Bistrot Lepic & Wine Bar  /user_details?userid=23tTzYqjrP4IhtvLupfp7w   \n",
       "4913  Bistrot Lepic & Wine Bar  /user_details?userid=VlI1CxW1VawvH_vv7t2mEg   \n",
       "4914  Bistrot Lepic & Wine Bar  /user_details?userid=Fc1HSIgVqlXyvYkUV7yvsg   \n",
       "\n",
       "                                                 review  stars        date  \\\n",
       "4910  Great atmosphere, the main entree food was fab...    5.0  2010-02-22   \n",
       "4911  What a rip off!!! We went for Christmas dinner...    2.0  2009-01-09   \n",
       "4912  Loved it!  Came here recently on a second trip...    5.0  2009-07-30   \n",
       "4913  I have been to Bistro Lepic quite a few times ...    1.0  2013-06-03   \n",
       "4914  I took my boyfriend here recently for his birt...    4.0  2009-01-27   \n",
       "\n",
       "                        location  \n",
       "4910               Arlington, VA  \n",
       "4911              Washington, DC  \n",
       "4912              Washington, DC  \n",
       "4913  Georgetown, Washington, DC  \n",
       "4914               Rockville, MD  "
      ]
     },
     "execution_count": 32,
     "metadata": {},
     "output_type": "execute_result"
    }
   ],
   "source": [
    "yelp.tail()"
   ]
  },
  {
   "cell_type": "code",
   "execution_count": 22,
   "metadata": {
    "collapsed": true
   },
   "outputs": [],
   "source": [
    "#creating the dataframe\n",
    "yelp_best_worst = []"
   ]
  },
  {
   "cell_type": "code",
   "execution_count": 23,
   "metadata": {
    "collapsed": false
   },
   "outputs": [],
   "source": [
    "# create a new DataFrame that only contains the 5-star and 1-star reviews\n",
    "yelp_best_worst = yelp[(yelp.stars==5) | (yelp.stars==1)]"
   ]
  },
  {
   "cell_type": "code",
   "execution_count": 26,
   "metadata": {
    "collapsed": false
   },
   "outputs": [],
   "source": [
    "# read yelp.csv into a DataFrame\n",
    "url = 'C:/Users/Pedro/Documents/nlpsideproject/compiled_master.csv'\n",
    "yelp = pd.read_csv(url)\n",
    "\n",
    "# create a new DataFrame that only contains the 5-star and 1-star reviews\n",
    "yelp_best_worst = yelp[(yelp.stars==5) | (yelp.stars==1)]\n",
    "\n",
    "# define X and y\n",
    "X = yelp_best_worst.review\n",
    "y = yelp_best_worst.stars\n",
    "\n",
    "# split the new DataFrame into training and testing sets\n",
    "X_train, X_test, y_train, y_test = train_test_split(X, y, random_state=1)"
   ]
  },
  {
   "cell_type": "code",
   "execution_count": 27,
   "metadata": {
    "collapsed": false
   },
   "outputs": [
    {
     "data": {
      "text/plain": [
       "\"This review is massively overdue (I don't write a lot of reviews). My husband and I are semi-regulars at this place. Anastasia and Dave are friendly people with great taste, and they have created wonderful, unpretentious wine bar. The wine list is delicious - we have our favorites like everyone but have never had a bad wine from their list - and the staff give great advice if you're not sure. Anastasia even gave us recommendations about which wineries to hit up in her native land on our summer vacation.\\r\\n\\r\\nThe food is yummy too, if you're okay with the dishes being a bit on the small side for the price.\\r\\n\\r\\nOverall, this place has us coming back on the regular. The only downside is they've been so successful that it's rarer to see Anastasia and Dave hanging around these days, but that just means they've been doing well. \\r\\n\\r\\nA must-try if you live in the U Street/Shaw/Mt. Vernon area.\\r\\n\""
      ]
     },
     "execution_count": 27,
     "metadata": {},
     "output_type": "execute_result"
    }
   ],
   "source": [
    "yelp_best_worst.ix[0].review"
   ]
  },
  {
   "cell_type": "code",
   "execution_count": 28,
   "metadata": {
    "collapsed": true
   },
   "outputs": [],
   "source": [
    "# define X and y\n",
    "X = yelp_best_worst.review\n",
    "y = yelp_best_worst.stars"
   ]
  },
  {
   "cell_type": "code",
   "execution_count": 29,
   "metadata": {
    "collapsed": false
   },
   "outputs": [],
   "source": [
    "# split the new DataFrame into training and testing sets\n",
    "X_train, X_test, y_train, y_test = train_test_split(X, y, random_state=1)"
   ]
  },
  {
   "cell_type": "code",
   "execution_count": 30,
   "metadata": {
    "collapsed": false
   },
   "outputs": [
    {
     "name": "stdout",
     "output_type": "stream",
     "text": [
      "1546\n",
      "516\n"
     ]
    }
   ],
   "source": [
    "print len(X_train)\n",
    "print len(X_test)"
   ]
  },
  {
   "cell_type": "markdown",
   "metadata": {},
   "source": [
    "# Tokenization"
   ]
  },
  {
   "cell_type": "markdown",
   "metadata": {},
   "source": [
    "- **What:** Separate text into units such as sentences or words\n",
    "- **Why:** Gives structure to previously unstructured text\n",
    "- **Notes:** Relatively easy with English language text, not easy with some languages"
   ]
  },
  {
   "cell_type": "code",
   "execution_count": 33,
   "metadata": {
    "collapsed": true
   },
   "outputs": [],
   "source": [
    "# use CountVectorizer to create document-term matrices from X_train and X_test\n",
    "vect = CountVectorizer()\n",
    "X_train_dtm = vect.fit_transform(X_train)\n",
    "X_test_dtm = vect.transform(X_test)"
   ]
  },
  {
   "cell_type": "code",
   "execution_count": 34,
   "metadata": {
    "collapsed": false
   },
   "outputs": [
    {
     "data": {
      "text/plain": [
       "(1546, 9073)"
      ]
     },
     "execution_count": 34,
     "metadata": {},
     "output_type": "execute_result"
    }
   ],
   "source": [
    "# rows are documents, columns are terms (aka \"tokens\" or \"features\")\n",
    "X_train_dtm.shape"
   ]
  },
  {
   "cell_type": "code",
   "execution_count": 35,
   "metadata": {
    "collapsed": false
   },
   "outputs": [
    {
     "name": "stdout",
     "output_type": "stream",
     "text": [
      "[u'yelps', u'yep', u'yes', u'yesil', u'yesterday', u'yet', u'yogurt', u'yokel', u'yonni', u'yor', u'york', u'yotch', u'you', u'young', u'younger', u'youngest', u'youngins', u'your', u'yours', u'yourself', u'youthful', u'yquem', u'yr', u'yuca', u'yucca', u'yukon', u'yum', u'yummmm', u'yummy', u'yuppie', u'zabaglione', u'zach', u'zachary', u'zack', u'zaytinha', u'zaytinya', u'zen', u'zero', u'zinfandel', u'zinger', u'zone', u'zoo', u'zucchini', u'zucchinis', u'zutan', u'zutant', u'\\xe1ine', u'\\xe9tait', u'\\xfcber', u'\\u0131zgara']\n"
     ]
    }
   ],
   "source": [
    "# last 50 features\n",
    "print vect.get_feature_names()[-50:]"
   ]
  },
  {
   "cell_type": "code",
   "execution_count": 36,
   "metadata": {
    "collapsed": false
   },
   "outputs": [
    {
     "data": {
      "text/plain": [
       "CountVectorizer(analyzer=u'word', binary=False, decode_error=u'strict',\n",
       "        dtype=<type 'numpy.int64'>, encoding=u'utf-8', input=u'content',\n",
       "        lowercase=True, max_df=1.0, max_features=None, min_df=1,\n",
       "        ngram_range=(1, 1), preprocessor=None, stop_words=None,\n",
       "        strip_accents=None, token_pattern=u'(?u)\\\\b\\\\w\\\\w+\\\\b',\n",
       "        tokenizer=None, vocabulary=None)"
      ]
     },
     "execution_count": 36,
     "metadata": {},
     "output_type": "execute_result"
    }
   ],
   "source": [
    "# show vectorizer options\n",
    "vect"
   ]
  },
  {
   "cell_type": "markdown",
   "metadata": {},
   "source": [
    "- **lowercase:** boolean, True by default\n",
    "- Convert all characters to lowercase before tokenizing."
   ]
  },
  {
   "cell_type": "code",
   "execution_count": 37,
   "metadata": {
    "collapsed": false
   },
   "outputs": [
    {
     "data": {
      "text/plain": [
       "(1546, 10923)"
      ]
     },
     "execution_count": 37,
     "metadata": {},
     "output_type": "execute_result"
    }
   ],
   "source": [
    "# don't convert to lowercase\n",
    "vect = CountVectorizer(lowercase=False)\n",
    "X_train_dtm = vect.fit_transform(X_train)\n",
    "X_train_dtm.shape"
   ]
  },
  {
   "cell_type": "markdown",
   "metadata": {},
   "source": [
    "- **ngram_range:** tuple (min_n, max_n)\n",
    "- The lower and upper boundary of the range of n-values for different n-grams to be extracted. All values of n such that min_n <= n <= max_n will be used."
   ]
  },
  {
   "cell_type": "code",
   "execution_count": 38,
   "metadata": {
    "collapsed": false
   },
   "outputs": [
    {
     "data": {
      "text/plain": [
       "(1546, 84596)"
      ]
     },
     "execution_count": 38,
     "metadata": {},
     "output_type": "execute_result"
    }
   ],
   "source": [
    "# include 1-grams and 2-grams\n",
    "vect = CountVectorizer(ngram_range=(1, 2))\n",
    "X_train_dtm = vect.fit_transform(X_train)\n",
    "X_train_dtm.shape"
   ]
  },
  {
   "cell_type": "code",
   "execution_count": 39,
   "metadata": {
    "collapsed": false
   },
   "outputs": [
    {
     "name": "stdout",
     "output_type": "stream",
     "text": [
      "[u'zaytinha', u'zaytinha and', u'zaytinya', u'zaytinya and', u'zaytinya eating', u'zaytinya the', u'zen', u'zen moment', u'zero', u'zero and', u'zero apologies', u'zero complaints', u'zero frequent', u'zero hassle', u'zero stars', u'zinfandel', u'zinfandel newbies', u'zinger', u'zinger of', u'zone', u'zone and', u'zone we', u'zoo', u'zoo anytime', u'zoo deal', u'zucchini', u'zucchini and', u'zucchini cake', u'zucchini fritters', u'zucchini meatball', u'zucchini mix', u'zucchini pancakes', u'zucchini patties', u'zucchini thing', u'zucchinis', u'zucchinis green', u'zutan', u'zutan they', u'zutant', u'zutant and', u'zutant they', u'\\xe1ine', u'\\xe1ine described', u'\\xe1ine suggested', u'\\xe9tait', u'\\xe9tait incroyable', u'\\xfcber', u'\\xfcber cool', u'\\u0131zgara', u'\\u0131zgara k\\xf6fte']\n"
     ]
    }
   ],
   "source": [
    "# last 50 features\n",
    "print vect.get_feature_names()[-50:]"
   ]
  },
  {
   "cell_type": "markdown",
   "metadata": {},
   "source": [
    "**Predicting the star rating:**"
   ]
  },
  {
   "cell_type": "code",
   "execution_count": 40,
   "metadata": {
    "collapsed": false
   },
   "outputs": [
    {
     "name": "stdout",
     "output_type": "stream",
     "text": [
      "0.924418604651\n"
     ]
    }
   ],
   "source": [
    "# use default options for CountVectorizer\n",
    "vect = CountVectorizer()\n",
    "\n",
    "# create document-term matrices\n",
    "X_train_dtm = vect.fit_transform(X_train)\n",
    "X_test_dtm = vect.transform(X_test)\n",
    "\n",
    "# use Naive Bayes  to predict the star rating\n",
    "nb = MultinomialNB()\n",
    "nb.fit(X_train_dtm, y_train)\n",
    "y_pred_class = nb.predict(X_test_dtm)\n",
    "\n",
    "# calculate accuracy\n",
    "print metrics.accuracy_score(y_test, y_pred_class)"
   ]
  },
  {
   "cell_type": "code",
   "execution_count": 41,
   "metadata": {
    "collapsed": false
   },
   "outputs": [
    {
     "data": {
      "text/plain": [
       "0.82751937984496127"
      ]
     },
     "execution_count": 41,
     "metadata": {},
     "output_type": "execute_result"
    }
   ],
   "source": [
    "# calculate null accuracy\n",
    "y_test_binary = np.where(y_test==5, 1, 0)\n",
    "max(y_test_binary.mean(), 1 - y_test_binary.mean())"
   ]
  },
  {
   "cell_type": "code",
   "execution_count": 42,
   "metadata": {
    "collapsed": true
   },
   "outputs": [],
   "source": [
    "# define a function that accepts a vectorizer and calculates the accuracy\n",
    "def tokenize_test(vect):\n",
    "    X_train_dtm = vect.fit_transform(X_train)\n",
    "    print 'Features: ', X_train_dtm.shape[1]\n",
    "    X_test_dtm = vect.transform(X_test)\n",
    "    nb = MultinomialNB()\n",
    "    nb.fit(X_train_dtm, y_train)\n",
    "    y_pred_class = nb.predict(X_test_dtm)\n",
    "    print 'Accuracy: ', metrics.accuracy_score(y_test, y_pred_class)"
   ]
  },
  {
   "cell_type": "code",
   "execution_count": 43,
   "metadata": {
    "collapsed": false
   },
   "outputs": [
    {
     "name": "stdout",
     "output_type": "stream",
     "text": [
      "Features:  84596\n",
      "Accuracy:  0.848837209302\n"
     ]
    }
   ],
   "source": [
    "# include 1-grams and 2-grams\n",
    "vect = CountVectorizer(ngram_range=(1, 2))\n",
    "tokenize_test(vect)"
   ]
  },
  {
   "cell_type": "markdown",
   "metadata": {},
   "source": [
    "# Part 3 - Stop Word Removals"
   ]
  },
  {
   "cell_type": "markdown",
   "metadata": {},
   "source": [
    "- **What:** Remove common words that will likely appear in any text\n",
    "- **Why:** They don't tell you much about your text"
   ]
  },
  {
   "cell_type": "code",
   "execution_count": 44,
   "metadata": {
    "collapsed": false
   },
   "outputs": [
    {
     "data": {
      "text/plain": [
       "CountVectorizer(analyzer=u'word', binary=False, decode_error=u'strict',\n",
       "        dtype=<type 'numpy.int64'>, encoding=u'utf-8', input=u'content',\n",
       "        lowercase=True, max_df=1.0, max_features=None, min_df=1,\n",
       "        ngram_range=(1, 2), preprocessor=None, stop_words=None,\n",
       "        strip_accents=None, token_pattern=u'(?u)\\\\b\\\\w\\\\w+\\\\b',\n",
       "        tokenizer=None, vocabulary=None)"
      ]
     },
     "execution_count": 44,
     "metadata": {},
     "output_type": "execute_result"
    }
   ],
   "source": [
    "# show vectorizer options\n",
    "vect"
   ]
  },
  {
   "cell_type": "markdown",
   "metadata": {},
   "source": [
    "- **stop_words:** string {'english'}, list, or None (default)\n",
    "- If 'english', a built-in stop word list for English is used.\n",
    "- If a list, that list is assumed to contain stop words, all of which will be removed from the resulting tokens.\n",
    "- If None, no stop words will be used. max_df can be set to a value in the range [0.7, 1.0) to automatically detect and filter stop words based on intra corpus document frequency of terms."
   ]
  },
  {
   "cell_type": "code",
   "execution_count": 45,
   "metadata": {
    "collapsed": false
   },
   "outputs": [
    {
     "name": "stdout",
     "output_type": "stream",
     "text": [
      "Features:  8792\n",
      "Accuracy:  0.922480620155\n"
     ]
    }
   ],
   "source": [
    "# remove English stop words\n",
    "vect = CountVectorizer(stop_words='english')\n",
    "tokenize_test(vect)"
   ]
  },
  {
   "cell_type": "code",
   "execution_count": 46,
   "metadata": {
    "collapsed": false
   },
   "outputs": [
    {
     "name": "stdout",
     "output_type": "stream",
     "text": [
      "frozenset(['all', 'six', 'less', 'being', 'indeed', 'over', 'move', 'anyway', 'fifty', 'four', 'not', 'own', 'through', 'yourselves', 'go', 'where', 'mill', 'only', 'find', 'before', 'one', 'whose', 'system', 'how', 'somewhere', 'with', 'thick', 'show', 'had', 'enough', 'should', 'to', 'must', 'whom', 'seeming', 'under', 'ours', 'has', 'might', 'thereafter', 'latterly', 'do', 'them', 'his', 'around', 'than', 'get', 'very', 'de', 'none', 'cannot', 'every', 'whether', 'they', 'front', 'during', 'thus', 'now', 'him', 'nor', 'name', 'several', 'hereafter', 'always', 'who', 'cry', 'whither', 'this', 'someone', 'either', 'each', 'become', 'thereupon', 'sometime', 'side', 'two', 'therein', 'twelve', 'because', 'often', 'ten', 'our', 'eg', 'some', 'back', 'up', 'namely', 'towards', 'are', 'further', 'beyond', 'ourselves', 'yet', 'out', 'even', 'will', 'what', 'still', 'for', 'bottom', 'mine', 'since', 'please', 'forty', 'per', 'its', 'everything', 'behind', 'un', 'above', 'between', 'it', 'neither', 'seemed', 'ever', 'across', 'she', 'somehow', 'be', 'we', 'full', 'never', 'sixty', 'however', 'here', 'otherwise', 'were', 'whereupon', 'nowhere', 'although', 'found', 'alone', 're', 'along', 'fifteen', 'by', 'both', 'about', 'last', 'would', 'anything', 'via', 'many', 'could', 'thence', 'put', 'against', 'keep', 'etc', 'amount', 'became', 'ltd', 'hence', 'onto', 'or', 'con', 'among', 'already', 'co', 'afterwards', 'formerly', 'within', 'seems', 'into', 'others', 'while', 'whatever', 'except', 'down', 'hers', 'everyone', 'done', 'least', 'another', 'whoever', 'moreover', 'couldnt', 'throughout', 'anyhow', 'yourself', 'three', 'from', 'her', 'few', 'together', 'top', 'there', 'due', 'been', 'next', 'anyone', 'eleven', 'much', 'call', 'therefore', 'interest', 'then', 'thru', 'themselves', 'hundred', 'was', 'sincere', 'empty', 'more', 'himself', 'elsewhere', 'mostly', 'on', 'fire', 'am', 'becoming', 'hereby', 'amongst', 'else', 'part', 'everywhere', 'too', 'herself', 'former', 'those', 'he', 'me', 'myself', 'made', 'twenty', 'these', 'bill', 'cant', 'us', 'until', 'besides', 'nevertheless', 'below', 'anywhere', 'nine', 'can', 'of', 'toward', 'my', 'something', 'and', 'whereafter', 'whenever', 'give', 'almost', 'wherever', 'is', 'describe', 'beforehand', 'herein', 'an', 'as', 'itself', 'at', 'have', 'in', 'seem', 'whence', 'ie', 'any', 'fill', 'again', 'hasnt', 'inc', 'thereby', 'thin', 'no', 'perhaps', 'latter', 'meanwhile', 'when', 'detail', 'same', 'wherein', 'beside', 'also', 'that', 'other', 'take', 'which', 'becomes', 'you', 'if', 'nobody', 'see', 'though', 'may', 'after', 'upon', 'most', 'hereupon', 'eight', 'but', 'serious', 'nothing', 'such', 'your', 'why', 'a', 'off', 'whereby', 'third', 'i', 'whole', 'noone', 'sometimes', 'well', 'amoungst', 'yours', 'their', 'rather', 'without', 'so', 'five', 'the', 'first', 'whereas', 'once'])\n"
     ]
    }
   ],
   "source": [
    "# set of stop words\n",
    "print vect.get_stop_words()"
   ]
  },
  {
   "cell_type": "markdown",
   "metadata": {},
   "source": [
    "## Other Vectorizer Options"
   ]
  },
  {
   "cell_type": "markdown",
   "metadata": {},
   "source": [
    "- **max_features:** int or None, default=None\n",
    "- If not None, build a vocabulary that only consider the top max_features ordered by term frequency across the corpus."
   ]
  },
  {
   "cell_type": "code",
   "execution_count": 47,
   "metadata": {
    "collapsed": false
   },
   "outputs": [
    {
     "name": "stdout",
     "output_type": "stream",
     "text": [
      "Features:  100\n",
      "Accuracy:  0.90503875969\n"
     ]
    }
   ],
   "source": [
    "# remove English stop words and only keep 100 features\n",
    "vect = CountVectorizer(stop_words='english', max_features=100)\n",
    "tokenize_test(vect)"
   ]
  },
  {
   "cell_type": "code",
   "execution_count": 48,
   "metadata": {
    "collapsed": false
   },
   "outputs": [
    {
     "name": "stdout",
     "output_type": "stream",
     "text": [
      "[u'absolutely', u'amazing', u'area', u'asked', u'atmosphere', u'bar', u'barcelona', u'best', u'better', u'bit', u'bread', u'brunch', u'came', u'cheese', u'come', u'course', u'day', u'dc', u'definitely', u'delicious', u'dessert', u'did', u'didn', u'dinner', u'dish', u'dishes', u'don', u'drink', u'drinks', u'enjoyed', u'excellent', u'experience', u'fantastic', u'favorite', u'food', u'friend', u'friendly', u'friends', u'glass', u'going', u'good', u'got', u'great', u'happy', u'highly', u'hour', u'just', u'know', u'like', u'list', u'little', u'love', u'loved', u'make', u'manager', u'meal', u'menu', u'new', u'nice', u'night', u'order', u'ordered', u'outside', u'patio', u'people', u'perfect', u'place', u'plate', u'plates', u'proof', u'really', u'recommend', u'reservation', u'restaurant', u'right', u'sauce', u'say', u'selection', u'server', u'service', u'small', u'spot', u'staff', u'steak', u'table', u'tapas', u'think', u'time', u'times', u'tried', u'try', u've', u'wait', u'waiter', u'want', u'way', u'went', u'wine', u'wines', u'wonderful']\n"
     ]
    }
   ],
   "source": [
    "# all 100 features\n",
    "print vect.get_feature_names()"
   ]
  },
  {
   "cell_type": "code",
   "execution_count": 49,
   "metadata": {
    "collapsed": false
   },
   "outputs": [
    {
     "name": "stdout",
     "output_type": "stream",
     "text": [
      "Features:  84596\n",
      "Accuracy:  0.848837209302\n"
     ]
    }
   ],
   "source": [
    "# include 1-grams and 2-grams, and limit the number of features\n",
    "vect = CountVectorizer(ngram_range=(1, 2), max_features=100000)\n",
    "tokenize_test(vect)"
   ]
  },
  {
   "cell_type": "markdown",
   "metadata": {},
   "source": [
    "\n",
    "min_df: float in range [0.0, 1.0] or int, default=1\n",
    "When building the vocabulary ignore terms that have a document frequency strictly lower than the given threshold. This value is also called cut-off in the literature. If float, the parameter represents a proportion of documents, integer absolute counts"
   ]
  },
  {
   "cell_type": "code",
   "execution_count": 50,
   "metadata": {
    "collapsed": false
   },
   "outputs": [
    {
     "name": "stdout",
     "output_type": "stream",
     "text": [
      "Features:  24410\n",
      "Accuracy:  0.936046511628\n"
     ]
    }
   ],
   "source": [
    "# include 1-grams and 2-grams, and only include terms that appear at least 2 times\n",
    "vect = CountVectorizer(ngram_range=(1, 2), min_df=2)\n",
    "tokenize_test(vect)"
   ]
  },
  {
   "cell_type": "markdown",
   "metadata": {},
   "source": [
    "Introduction to TextBlob"
   ]
  },
  {
   "cell_type": "code",
   "execution_count": 51,
   "metadata": {
    "collapsed": false
   },
   "outputs": [
    {
     "name": "stdout",
     "output_type": "stream",
     "text": [
      "Both me and my friend were charged higher tips on our credit cards then we signed on our receipts. \r\n",
      "\r\n",
      "Update: La Jambe remedied the situation in a thoughtful and professional manner.\r\n",
      "\n"
     ]
    }
   ],
   "source": [
    "# print the first review\n",
    "print yelp_best_worst.review[50]"
   ]
  },
  {
   "cell_type": "code",
   "execution_count": 52,
   "metadata": {
    "collapsed": true
   },
   "outputs": [],
   "source": [
    "# save it as a TextBlob object\n",
    "review = TextBlob(yelp_best_worst.review[0])"
   ]
  },
  {
   "cell_type": "code",
   "execution_count": 53,
   "metadata": {
    "collapsed": false
   },
   "outputs": [
    {
     "data": {
      "text/plain": [
       "WordList(['This', 'review', 'is', 'massively', 'overdue', 'I', 'do', \"n't\", 'write', 'a', 'lot', 'of', 'reviews', 'My', 'husband', 'and', 'I', 'are', 'semi-regulars', 'at', 'this', 'place', 'Anastasia', 'and', 'Dave', 'are', 'friendly', 'people', 'with', 'great', 'taste', 'and', 'they', 'have', 'created', 'wonderful', 'unpretentious', 'wine', 'bar', 'The', 'wine', 'list', 'is', 'delicious', 'we', 'have', 'our', 'favorites', 'like', 'everyone', 'but', 'have', 'never', 'had', 'a', 'bad', 'wine', 'from', 'their', 'list', 'and', 'the', 'staff', 'give', 'great', 'advice', 'if', 'you', \"'re\", 'not', 'sure', 'Anastasia', 'even', 'gave', 'us', 'recommendations', 'about', 'which', 'wineries', 'to', 'hit', 'up', 'in', 'her', 'native', 'land', 'on', 'our', 'summer', 'vacation', 'The', 'food', 'is', 'yummy', 'too', 'if', 'you', \"'re\", 'okay', 'with', 'the', 'dishes', 'being', 'a', 'bit', 'on', 'the', 'small', 'side', 'for', 'the', 'price', 'Overall', 'this', 'place', 'has', 'us', 'coming', 'back', 'on', 'the', 'regular', 'The', 'only', 'downside', 'is', 'they', \"'ve\", 'been', 'so', 'successful', 'that', 'it', \"'s\", 'rarer', 'to', 'see', 'Anastasia', 'and', 'Dave', 'hanging', 'around', 'these', 'days', 'but', 'that', 'just', 'means', 'they', \"'ve\", 'been', 'doing', 'well', 'A', 'must-try', 'if', 'you', 'live', 'in', 'the', 'U', 'Street/Shaw/Mt', 'Vernon', 'area'])"
      ]
     },
     "execution_count": 53,
     "metadata": {},
     "output_type": "execute_result"
    }
   ],
   "source": [
    "# list the words\n",
    "review.words"
   ]
  },
  {
   "cell_type": "code",
   "execution_count": 54,
   "metadata": {
    "collapsed": false
   },
   "outputs": [
    {
     "data": {
      "text/plain": [
       "[Sentence(\"This review is massively overdue (I don't write a lot of reviews).\"),\n",
       " Sentence(\"My husband and I are semi-regulars at this place.\"),\n",
       " Sentence(\"Anastasia and Dave are friendly people with great taste, and they have created wonderful, unpretentious wine bar.\"),\n",
       " Sentence(\"The wine list is delicious - we have our favorites like everyone but have never had a bad wine from their list - and the staff give great advice if you're not sure.\"),\n",
       " Sentence(\"Anastasia even gave us recommendations about which wineries to hit up in her native land on our summer vacation.\"),\n",
       " Sentence(\"The food is yummy too, if you're okay with the dishes being a bit on the small side for the price.\"),\n",
       " Sentence(\"Overall, this place has us coming back on the regular.\"),\n",
       " Sentence(\"The only downside is they've been so successful that it's rarer to see Anastasia and Dave hanging around these days, but that just means they've been doing well.\"),\n",
       " Sentence(\"A must-try if you live in the U Street/Shaw/Mt.\"),\n",
       " Sentence(\"Vernon area.\n",
       " \")]"
      ]
     },
     "execution_count": 54,
     "metadata": {},
     "output_type": "execute_result"
    }
   ],
   "source": [
    "# list the sentences\n",
    "review.sentences"
   ]
  },
  {
   "cell_type": "code",
   "execution_count": 58,
   "metadata": {
    "collapsed": false
   },
   "outputs": [
    {
     "data": {
      "text/plain": [
       "TextBlob(\"this review is massively overdue (i don't write a lot of reviews). my husband and i are semi-regulars at this place. anastasia and dave are friendly people with great taste, and they have created wonderful, unpretentious wine bar. the wine list is delicious - we have our favorites like everyone but have never had a bad wine from their list - and the staff give great advice if you're not sure. anastasia even gave us recommendations about which wineries to hit up in her native land on our summer vacation.\n",
       "\n",
       "the food is yummy too, if you're okay with the dishes being a bit on the small side for the price.\n",
       "\n",
       "overall, this place has us coming back on the regular. the only downside is they've been so successful that it's rarer to see anastasia and dave hanging around these days, but that just means they've been doing well. \n",
       "\n",
       "a must-try if you live in the u street/shaw/mt. vernon area.\n",
       "\")"
      ]
     },
     "execution_count": 58,
     "metadata": {},
     "output_type": "execute_result"
    }
   ],
   "source": [
    "# some string methods are available\n",
    "review.lower()"
   ]
  },
  {
   "cell_type": "markdown",
   "metadata": {},
   "source": [
    "# Part 6: Stemming and Lemmatization"
   ]
  },
  {
   "cell_type": "markdown",
   "metadata": {},
   "source": [
    "**Stemming:**\n",
    "\n",
    "- **What:** Reduce a word to its base/stem/root form\n",
    "- **Why:** Often makes sense to treat related words the same way\n",
    "- **Notes:**\n",
    "    - Uses a \"simple\" and fast rule-based approach\n",
    "    - Stemmed words are usually not shown to users (used for analysis/indexing)\n",
    "    - Some search engines treat words with the same stem as synonyms"
   ]
  },
  {
   "cell_type": "code",
   "execution_count": 59,
   "metadata": {
    "collapsed": false
   },
   "outputs": [
    {
     "name": "stdout",
     "output_type": "stream",
     "text": [
      "[u'this', u'review', u'is', u'massiv', u'overdu', u'i', u'do', u\"n't\", u'write', u'a', u'lot', u'of', u'review', u'my', u'husband', u'and', u'i', u'are', u'semi-regular', u'at', u'this', u'place', u'anastasia', u'and', u'dave', u'are', u'friend', u'peopl', u'with', u'great', u'tast', u'and', u'they', u'have', u'creat', u'wonder', u'unpretenti', u'wine', u'bar', u'the', u'wine', u'list', u'is', u'delici', u'we', u'have', u'our', u'favorit', u'like', u'everyon', u'but', u'have', u'never', u'had', u'a', u'bad', u'wine', u'from', u'their', u'list', u'and', u'the', u'staff', u'give', u'great', u'advic', u'if', u'you', u're', u'not', u'sure', u'anastasia', u'even', u'gave', u'us', u'recommend', u'about', u'which', u'wineri', u'to', u'hit', u'up', u'in', u'her', u'nativ', u'land', u'on', u'our', u'summer', u'vacat', u'the', u'food', u'is', u'yummi', u'too', u'if', u'you', u're', u'okay', u'with', u'the', u'dish', u'be', u'a', u'bit', u'on', u'the', u'small', u'side', u'for', u'the', u'price', u'overal', u'this', u'place', u'has', u'us', u'come', u'back', u'on', u'the', u'regular', u'the', u'onli', u'downsid', u'is', u'they', u've', u'been', u'so', u'success', u'that', u'it', u\"'s\", u'rarer', u'to', u'see', u'anastasia', u'and', u'dave', u'hang', u'around', u'these', u'day', u'but', u'that', u'just', u'mean', u'they', u've', u'been', u'do', u'well', u'a', u'must-tri', u'if', u'you', u'live', u'in', u'the', u'u', u'street/shaw/mt', u'vernon', u'area']\n"
     ]
    }
   ],
   "source": [
    "# initialize stemmer\n",
    "stemmer = SnowballStemmer('english')\n",
    "\n",
    "# stem each word\n",
    "print [stemmer.stem(word) for word in review.words]"
   ]
  },
  {
   "cell_type": "markdown",
   "metadata": {},
   "source": [
    "**Lemmatization**\n",
    "\n",
    "- **What:** Derive the canonical form ('lemma') of a word\n",
    "- **Why:** Can be better than stemming\n",
    "- **Notes:** Uses a dictionary-based approach (slower than stemming)"
   ]
  },
  {
   "cell_type": "code",
   "execution_count": 60,
   "metadata": {
    "collapsed": false
   },
   "outputs": [
    {
     "name": "stdout",
     "output_type": "stream",
     "text": [
      "['This', 'review', 'is', 'massively', 'overdue', 'I', 'do', \"n't\", 'write', 'a', 'lot', 'of', u'review', 'My', 'husband', 'and', 'I', 'are', 'semi-regulars', 'at', 'this', 'place', 'Anastasia', 'and', 'Dave', 'are', 'friendly', 'people', 'with', 'great', 'taste', 'and', 'they', 'have', 'created', 'wonderful', 'unpretentious', 'wine', 'bar', 'The', 'wine', 'list', 'is', 'delicious', 'we', 'have', 'our', u'favorite', 'like', 'everyone', 'but', 'have', 'never', 'had', 'a', 'bad', 'wine', 'from', 'their', 'list', 'and', 'the', 'staff', 'give', 'great', 'advice', 'if', 'you', \"'re\", 'not', 'sure', 'Anastasia', 'even', 'gave', u'u', u'recommendation', 'about', 'which', u'winery', 'to', 'hit', 'up', 'in', 'her', 'native', 'land', 'on', 'our', 'summer', 'vacation', 'The', 'food', 'is', 'yummy', 'too', 'if', 'you', \"'re\", 'okay', 'with', 'the', u'dish', 'being', 'a', 'bit', 'on', 'the', 'small', 'side', 'for', 'the', 'price', 'Overall', 'this', 'place', u'ha', u'u', 'coming', 'back', 'on', 'the', 'regular', 'The', 'only', 'downside', 'is', 'they', \"'ve\", 'been', 'so', 'successful', 'that', 'it', \"'s\", 'rarer', 'to', 'see', 'Anastasia', 'and', 'Dave', 'hanging', 'around', 'these', u'day', 'but', 'that', 'just', u'mean', 'they', \"'ve\", 'been', 'doing', 'well', 'A', 'must-try', 'if', 'you', 'live', 'in', 'the', 'U', 'Street/Shaw/Mt', 'Vernon', 'area']\n"
     ]
    }
   ],
   "source": [
    "# assume every word is a noun\n",
    "print [word.lemmatize() for word in review.words]"
   ]
  },
  {
   "cell_type": "code",
   "execution_count": 61,
   "metadata": {
    "collapsed": false
   },
   "outputs": [
    {
     "name": "stdout",
     "output_type": "stream",
     "text": [
      "['This', 'review', u'be', 'massively', 'overdue', 'I', 'do', \"n't\", 'write', 'a', 'lot', 'of', u'review', 'My', 'husband', 'and', 'I', u'be', 'semi-regulars', 'at', 'this', 'place', 'Anastasia', 'and', 'Dave', u'be', 'friendly', 'people', 'with', 'great', 'taste', 'and', 'they', 'have', u'create', 'wonderful', 'unpretentious', 'wine', 'bar', 'The', 'wine', 'list', u'be', 'delicious', 'we', 'have', 'our', 'favorites', 'like', 'everyone', 'but', 'have', 'never', u'have', 'a', 'bad', 'wine', 'from', 'their', 'list', 'and', 'the', 'staff', 'give', 'great', 'advice', 'if', 'you', \"'re\", 'not', 'sure', 'Anastasia', 'even', u'give', 'us', 'recommendations', 'about', 'which', 'wineries', 'to', 'hit', 'up', 'in', 'her', 'native', 'land', 'on', 'our', 'summer', 'vacation', 'The', 'food', u'be', 'yummy', 'too', 'if', 'you', \"'re\", 'okay', 'with', 'the', u'dish', u'be', 'a', u'bite', 'on', 'the', 'small', 'side', 'for', 'the', 'price', 'Overall', 'this', 'place', u'have', 'us', u'come', 'back', 'on', 'the', 'regular', 'The', 'only', 'downside', u'be', 'they', \"'ve\", u'be', 'so', 'successful', 'that', 'it', \"'s\", 'rarer', 'to', 'see', 'Anastasia', 'and', 'Dave', u'hang', 'around', 'these', 'days', 'but', 'that', 'just', u'mean', 'they', \"'ve\", u'be', u'do', 'well', 'A', 'must-try', 'if', 'you', 'live', 'in', 'the', 'U', 'Street/Shaw/Mt', 'Vernon', 'area']\n"
     ]
    }
   ],
   "source": [
    "# assume every word is a verb\n",
    "print [word.lemmatize(pos='v') for word in review.words]"
   ]
  },
  {
   "cell_type": "code",
   "execution_count": 62,
   "metadata": {
    "collapsed": true
   },
   "outputs": [],
   "source": [
    "# define a function that accepts text and returns a list of lemmas\n",
    "def split_into_lemmas(text):\n",
    "    text = unicode(text, 'utf-8').lower()\n",
    "    words = TextBlob(text).words\n",
    "    return [word.lemmatize() for word in words]"
   ]
  },
  {
   "cell_type": "code",
   "execution_count": 63,
   "metadata": {
    "collapsed": false
   },
   "outputs": [
    {
     "name": "stdout",
     "output_type": "stream",
     "text": [
      "Features:  8897\n",
      "Accuracy:  0.922480620155\n"
     ]
    }
   ],
   "source": [
    "# use split_into_lemmas as the feature extraction function (WARNING: SLOW!)\n",
    "vect = CountVectorizer(analyzer=split_into_lemmas)\n",
    "tokenize_test(vect)"
   ]
  },
  {
   "cell_type": "code",
   "execution_count": 64,
   "metadata": {
    "collapsed": false
   },
   "outputs": [
    {
     "name": "stdout",
     "output_type": "stream",
     "text": [
      "[u'yelper', u'yelpers', u'yep', u'yes', u'yesil', u'yesterday', u'yet', u'yogurt', u'yogurt-cilantro', u'yogurt/herbal/olive', u'yokel', u'yonni', u'yor', u'york', u'you', u\"you'r\", u'young', u'younger', u'youngest', u'youngins', u'your', u'yours', u'yourself', u'youthful', u'yr', u'yuca', u'yucca', u'yukon', u'yum', u'yummmm', u'yummy', u'yuppie', u'zabaglione', u'zach', u'zachary', u'zack', u'zaytinha', u'zaytinya', u'zen', u'zero', u'zinfandel', u'zinger', u'zone', u'zoo', u'zucchini', u'zutan', u'zutant', u'\\xe1ine', u'\\xfcber', u'\\u0131zgara']\n"
     ]
    }
   ],
   "source": [
    "# last 50 features\n",
    "print vect.get_feature_names()[-50:]"
   ]
  },
  {
   "cell_type": "markdown",
   "metadata": {},
   "source": [
    "# Part 7: Term Frequency-Inverse Document Frequency (TF-IDF)¶"
   ]
  },
  {
   "cell_type": "markdown",
   "metadata": {},
   "source": [
    "- **What:** Computes \"relative frequency\" that a word appears in a document compared to its frequency across all documents\n",
    "- **Why:** More useful than \"term frequency\" for identifying \"important\" words in each document (high frequency in that document, low frequency in other documents)\n",
    "- **Notes:** Used for search engine scoring, text summarization, document clustering"
   ]
  },
  {
   "cell_type": "code",
   "execution_count": 65,
   "metadata": {
    "collapsed": false
   },
   "outputs": [
    {
     "data": {
      "text/plain": [
       "(4915, 15903)"
      ]
     },
     "execution_count": 65,
     "metadata": {},
     "output_type": "execute_result"
    }
   ],
   "source": [
    "# create a document-term matrix using TF-IDF\n",
    "vect = TfidfVectorizer(stop_words='english')\n",
    "dtm = vect.fit_transform(yelp.review)\n",
    "features = vect.get_feature_names()\n",
    "dtm.shape"
   ]
  },
  {
   "cell_type": "code",
   "execution_count": 66,
   "metadata": {
    "collapsed": true
   },
   "outputs": [],
   "source": [
    "def summarize():\n",
    "    \n",
    "    # choose a random review that is at least 300 characters\n",
    "    review_length = 0\n",
    "    while review_length < 300:\n",
    "        review_id = np.random.randint(0, len(yelp))\n",
    "        review_text = unicode(yelp.review[review_id], 'utf-8')\n",
    "        review_length = len(review_text)\n",
    "    \n",
    "    # create a dictionary of words and their TF-IDF scores\n",
    "    word_scores = {}\n",
    "    for word in TextBlob(review_text).words:\n",
    "        word = word.lower()\n",
    "        if word in features:\n",
    "            word_scores[word] = dtm[review_id, features.index(word)]\n",
    "    \n",
    "    # print words with the top 5 TF-IDF scores\n",
    "    print 'TOP SCORING WORDS:'\n",
    "    top_scores = sorted(word_scores.items(), key=lambda x: x[1], reverse=True)[:5]\n",
    "    for word, score in top_scores:\n",
    "        print word\n",
    "    \n",
    "    # print 5 random words\n",
    "    print '\\n' + 'RANDOM WORDS:'\n",
    "    random_words = np.random.choice(word_scores.keys(), size=5, replace=False)\n",
    "    for word in random_words:\n",
    "        print word\n",
    "    \n",
    "    # print the review\n",
    "    print '\\n' + review_text"
   ]
  },
  {
   "cell_type": "code",
   "execution_count": 69,
   "metadata": {
    "collapsed": false
   },
   "outputs": [
    {
     "name": "stdout",
     "output_type": "stream",
     "text": [
      "TOP SCORING WORDS:\n",
      "staff\n",
      "explained\n",
      "rude\n",
      "routes\n",
      "instructed\n",
      "\n",
      "RANDOM WORDS:\n",
      "seven\n",
      "bottle\n",
      "instead\n",
      "rude\n",
      "share\n",
      "\n",
      "Rude and pretentious! Go elsewhere in Chinatown.  I recommend Poste around the corner\r\n",
      "\r\n",
      "After a couple negative experiences, it's time to write a review.  Upon arriving I explained to the hostess that we would be a group of seven and asked if we could get a table.  The staff explained to me that we could only sit if everyone ordered an entree.  Okay, I get the rule.  Most of our group wanted to eat, a couple only wanted to share appetizers.  We had already ordered a bottle of wine and were ready to order more, but we couldn't fit more food or drinks or 7 at a pub table.  Nope.  Still won't seat us.  Not only do I find the policy short-sighted since we were still going to end our time with a extent check, but half the tables were empty!!  That and the very rude behavior of the staff left us feeling very unwelcome.  Several staff told us we were \"in there way\" and that we should move.  There were other routes to get to the tables, but management instructed wait staff to move through our party instead of around.\r\n",
      "\r\n",
      "Proof - don't worry.  We got the hint.  We won't be back.\r\n",
      "\n"
     ]
    }
   ],
   "source": [
    "summarize()"
   ]
  },
  {
   "cell_type": "markdown",
   "metadata": {},
   "source": [
    "**More details:** [TF-IDF is about what matters](http://planspace.org/20150524-tfidf_is_about_what_matters/)"
   ]
  },
  {
   "cell_type": "markdown",
   "metadata": {},
   "source": [
    "# Sentiment Analysis"
   ]
  },
  {
   "cell_type": "code",
   "execution_count": 70,
   "metadata": {
    "collapsed": false
   },
   "outputs": [
    {
     "name": "stdout",
     "output_type": "stream",
     "text": [
      "This review is massively overdue (I don't write a lot of reviews). My husband and I are semi-regulars at this place. Anastasia and Dave are friendly people with great taste, and they have created wonderful, unpretentious wine bar. The wine list is delicious - we have our favorites like everyone but have never had a bad wine from their list - and the staff give great advice if you're not sure. Anastasia even gave us recommendations about which wineries to hit up in her native land on our summer vacation.\r\n",
      "\r\n",
      "The food is yummy too, if you're okay with the dishes being a bit on the small side for the price.\r\n",
      "\r\n",
      "Overall, this place has us coming back on the regular. The only downside is they've been so successful that it's rarer to see Anastasia and Dave hanging around these days, but that just means they've been doing well. \r\n",
      "\r\n",
      "A must-try if you live in the U Street/Shaw/Mt. Vernon area.\r\n",
      "\n"
     ]
    }
   ],
   "source": [
    "print review"
   ]
  },
  {
   "cell_type": "code",
   "execution_count": 71,
   "metadata": {
    "collapsed": false
   },
   "outputs": [
    {
     "data": {
      "text/plain": [
       "0.2600852272727273"
      ]
     },
     "execution_count": 71,
     "metadata": {},
     "output_type": "execute_result"
    }
   ],
   "source": [
    "# polarity ranges from -1 (most negative) to 1 (most positive)\n",
    "review.sentiment.polarity"
   ]
  },
  {
   "cell_type": "code",
   "execution_count": 72,
   "metadata": {
    "collapsed": false
   },
   "outputs": [
    {
     "data": {
      "text/html": [
       "<div>\n",
       "<table border=\"1\" class=\"dataframe\">\n",
       "  <thead>\n",
       "    <tr style=\"text-align: right;\">\n",
       "      <th></th>\n",
       "      <th>rest_name</th>\n",
       "      <th>username</th>\n",
       "      <th>review</th>\n",
       "      <th>stars</th>\n",
       "      <th>date</th>\n",
       "      <th>location</th>\n",
       "      <th>length</th>\n",
       "    </tr>\n",
       "  </thead>\n",
       "  <tbody>\n",
       "    <tr>\n",
       "      <th>0</th>\n",
       "      <td>La Jambe</td>\n",
       "      <td>/user_details?userid=GBjdziANdkk29jjwOBj5ow</td>\n",
       "      <td>This review is massively overdue (I don't writ...</td>\n",
       "      <td>5.0</td>\n",
       "      <td>8/25/2017</td>\n",
       "      <td>Washington, DC</td>\n",
       "      <td>897</td>\n",
       "    </tr>\n",
       "    <tr>\n",
       "      <th>1</th>\n",
       "      <td>La Jambe</td>\n",
       "      <td>/user_details?userid=X3Ki2Z6JTn9gbuz23NO3kg</td>\n",
       "      <td>My friends and I were looking for a good happy...</td>\n",
       "      <td>4.0</td>\n",
       "      <td>9/25/2017</td>\n",
       "      <td>Washington, DC</td>\n",
       "      <td>851</td>\n",
       "    </tr>\n",
       "    <tr>\n",
       "      <th>2</th>\n",
       "      <td>La Jambe</td>\n",
       "      <td>/user_details?userid=dOYJX2FBw5FXDBwXZZoq7A</td>\n",
       "      <td>Elegant and intimate - La Jambe has an unexpec...</td>\n",
       "      <td>4.0</td>\n",
       "      <td>8/11/2017</td>\n",
       "      <td>Washington, DC</td>\n",
       "      <td>699</td>\n",
       "    </tr>\n",
       "    <tr>\n",
       "      <th>3</th>\n",
       "      <td>La Jambe</td>\n",
       "      <td>/user_details?userid=ZaJ6zPDAc7YaDTE2QEBGPA</td>\n",
       "      <td>This place is really special. If your in the a...</td>\n",
       "      <td>5.0</td>\n",
       "      <td>7/23/2017</td>\n",
       "      <td>Red Bank, NJ</td>\n",
       "      <td>531</td>\n",
       "    </tr>\n",
       "    <tr>\n",
       "      <th>4</th>\n",
       "      <td>La Jambe</td>\n",
       "      <td>/user_details?userid=mz8Q8yEOkgjaISIqzUSHLg</td>\n",
       "      <td>Hooray for happy hour! $5 for delicious wines?...</td>\n",
       "      <td>4.0</td>\n",
       "      <td>7/10/2017</td>\n",
       "      <td>Washington, DC</td>\n",
       "      <td>544</td>\n",
       "    </tr>\n",
       "    <tr>\n",
       "      <th>5</th>\n",
       "      <td>La Jambe</td>\n",
       "      <td>/user_details?userid=B1U0NiIcCltvuBXd8NbtuQ</td>\n",
       "      <td>$5 happy hour wines at the corner gem La Jambe...</td>\n",
       "      <td>4.0</td>\n",
       "      <td>6/5/2017</td>\n",
       "      <td>Washington, DC</td>\n",
       "      <td>436</td>\n",
       "    </tr>\n",
       "    <tr>\n",
       "      <th>6</th>\n",
       "      <td>La Jambe</td>\n",
       "      <td>/user_details?userid=W7R6U1ibcHxXBYedVWYQqw</td>\n",
       "      <td>This little gem is a fantastic place for happy...</td>\n",
       "      <td>5.0</td>\n",
       "      <td>6/23/2017</td>\n",
       "      <td>Berkeley, CA</td>\n",
       "      <td>379</td>\n",
       "    </tr>\n",
       "    <tr>\n",
       "      <th>7</th>\n",
       "      <td>La Jambe</td>\n",
       "      <td>/user_details?userid=oe0t5jdk-WHCYqnkRB_reg</td>\n",
       "      <td>Best wine bar happy hour in the Shaw area! A f...</td>\n",
       "      <td>5.0</td>\n",
       "      <td>12/30/2016</td>\n",
       "      <td>Washington, DC</td>\n",
       "      <td>1260</td>\n",
       "    </tr>\n",
       "    <tr>\n",
       "      <th>8</th>\n",
       "      <td>La Jambe</td>\n",
       "      <td>/user_details?userid=XuYkUMWvzcUQa8TOuPbtAQ</td>\n",
       "      <td>Asked the owner's husband for a recommendation...</td>\n",
       "      <td>2.0</td>\n",
       "      <td>8/17/2017</td>\n",
       "      <td>Washington D.C., DC</td>\n",
       "      <td>240</td>\n",
       "    </tr>\n",
       "    <tr>\n",
       "      <th>9</th>\n",
       "      <td>La Jambe</td>\n",
       "      <td>/user_details?userid=USCP83O8bpVpFPCwXG-OKQ</td>\n",
       "      <td>Great crepes at brunch! The mimosas were espec...</td>\n",
       "      <td>4.0</td>\n",
       "      <td>8/17/2017</td>\n",
       "      <td>Atlanta, GA</td>\n",
       "      <td>103</td>\n",
       "    </tr>\n",
       "  </tbody>\n",
       "</table>\n",
       "</div>"
      ],
      "text/plain": [
       "  rest_name                                     username  \\\n",
       "0  La Jambe  /user_details?userid=GBjdziANdkk29jjwOBj5ow   \n",
       "1  La Jambe  /user_details?userid=X3Ki2Z6JTn9gbuz23NO3kg   \n",
       "2  La Jambe  /user_details?userid=dOYJX2FBw5FXDBwXZZoq7A   \n",
       "3  La Jambe  /user_details?userid=ZaJ6zPDAc7YaDTE2QEBGPA   \n",
       "4  La Jambe  /user_details?userid=mz8Q8yEOkgjaISIqzUSHLg   \n",
       "5  La Jambe  /user_details?userid=B1U0NiIcCltvuBXd8NbtuQ   \n",
       "6  La Jambe  /user_details?userid=W7R6U1ibcHxXBYedVWYQqw   \n",
       "7  La Jambe  /user_details?userid=oe0t5jdk-WHCYqnkRB_reg   \n",
       "8  La Jambe  /user_details?userid=XuYkUMWvzcUQa8TOuPbtAQ   \n",
       "9  La Jambe  /user_details?userid=USCP83O8bpVpFPCwXG-OKQ   \n",
       "\n",
       "                                              review  stars        date  \\\n",
       "0  This review is massively overdue (I don't writ...    5.0   8/25/2017   \n",
       "1  My friends and I were looking for a good happy...    4.0   9/25/2017   \n",
       "2  Elegant and intimate - La Jambe has an unexpec...    4.0   8/11/2017   \n",
       "3  This place is really special. If your in the a...    5.0   7/23/2017   \n",
       "4  Hooray for happy hour! $5 for delicious wines?...    4.0   7/10/2017   \n",
       "5  $5 happy hour wines at the corner gem La Jambe...    4.0    6/5/2017   \n",
       "6  This little gem is a fantastic place for happy...    5.0   6/23/2017   \n",
       "7  Best wine bar happy hour in the Shaw area! A f...    5.0  12/30/2016   \n",
       "8  Asked the owner's husband for a recommendation...    2.0   8/17/2017   \n",
       "9  Great crepes at brunch! The mimosas were espec...    4.0   8/17/2017   \n",
       "\n",
       "              location  length  \n",
       "0       Washington, DC     897  \n",
       "1       Washington, DC     851  \n",
       "2       Washington, DC     699  \n",
       "3         Red Bank, NJ     531  \n",
       "4       Washington, DC     544  \n",
       "5       Washington, DC     436  \n",
       "6         Berkeley, CA     379  \n",
       "7       Washington, DC    1260  \n",
       "8  Washington D.C., DC     240  \n",
       "9          Atlanta, GA     103  "
      ]
     },
     "execution_count": 72,
     "metadata": {},
     "output_type": "execute_result"
    }
   ],
   "source": [
    "# understanding the apply method\n",
    "yelp['length'] = yelp.review.apply(len)\n",
    "yelp.head(10)"
   ]
  },
  {
   "cell_type": "code",
   "execution_count": 73,
   "metadata": {
    "collapsed": true
   },
   "outputs": [],
   "source": [
    "# define a function that accepts text and returns the polarity\n",
    "def detect_sentiment(text):\n",
    "    return TextBlob(text.decode('utf-8')).sentiment.polarity"
   ]
  },
  {
   "cell_type": "code",
   "execution_count": 74,
   "metadata": {
    "collapsed": false
   },
   "outputs": [],
   "source": [
    "# create a new DataFrame column for sentiment (WARNING: SLOW!)\n",
    "yelp['sentiment'] = yelp.review.apply(detect_sentiment)"
   ]
  },
  {
   "cell_type": "code",
   "execution_count": 75,
   "metadata": {
    "collapsed": false
   },
   "outputs": [
    {
     "data": {
      "text/plain": [
       "Index([u'rest_name', u'username', u'review', u'stars', u'date', u'location',\n",
       "       u'length', u'sentiment'],\n",
       "      dtype='object')"
      ]
     },
     "execution_count": 75,
     "metadata": {},
     "output_type": "execute_result"
    }
   ],
   "source": [
    "yelp.columns"
   ]
  },
  {
   "cell_type": "code",
   "execution_count": 76,
   "metadata": {
    "collapsed": true
   },
   "outputs": [],
   "source": [
    "yelp_best_worst = yelp[(yelp.stars==5) | (yelp.stars==1)]"
   ]
  },
  {
   "cell_type": "code",
   "execution_count": 77,
   "metadata": {
    "collapsed": false
   },
   "outputs": [
    {
     "data": {
      "text/plain": [
       "<matplotlib.axes._subplots.AxesSubplot at 0xed15ef0>"
      ]
     },
     "execution_count": 77,
     "metadata": {},
     "output_type": "execute_result"
    },
    {
     "data": {
      "image/png": "[encoded data removed]",
      "text/plain": [
       "<matplotlib.figure.Figure at 0xebb2080>"
      ]
     },
     "metadata": {},
     "output_type": "display_data"
    }
   ],
   "source": [
    "# box plot of sentiment grouped by stars\n",
    "yelp.boxplot(column='sentiment', by='stars')"
   ]
  },
  {
   "cell_type": "code",
   "execution_count": 56,
   "metadata": {
    "collapsed": false
   },
   "outputs": [
    {
     "data": {
      "text/plain": [
       "Series([], Name: review, dtype: object)"
      ]
     },
     "execution_count": 56,
     "metadata": {},
     "output_type": "execute_result"
    }
   ],
   "source": [
    "# reviews with most positive sentiment\n",
    "yelp[yelp.sentiment == 1].review.head()"
   ]
  },
  {
   "cell_type": "code",
   "execution_count": 57,
   "metadata": {
    "collapsed": false
   },
   "outputs": [
    {
     "data": {
      "text/plain": [
       "Series([], Name: review, dtype: object)"
      ]
     },
     "execution_count": 57,
     "metadata": {},
     "output_type": "execute_result"
    }
   ],
   "source": [
    "# reviews with most negative sentiment\n",
    "yelp[yelp.sentiment == -1].review.head()"
   ]
  },
  {
   "cell_type": "markdown",
   "metadata": {},
   "source": [
    "## Conclusion\n",
    "\n",
    "- NLP is a gigantic field\n",
    "- Understanding the basics broadens the types of data you can work with\n",
    "- Simple techniques go a long way\n",
    "- Use scikit-learn for NLP whenever possible"
   ]
  }
 ],
 "metadata": {
  "kernelspec": {
   "display_name": "Python 2",
   "language": "python",
   "name": "python2"
  },
  "language_info": {
   "codemirror_mode": {
    "name": "ipython",
    "version": 2
   },
   "file_extension": ".py",
   "mimetype": "text/x-python",
   "name": "python",
   "nbconvert_exporter": "python",
   "pygments_lexer": "ipython2",
   "version": "2.7.13"
  }
 },
 "nbformat": 4,
 "nbformat_minor": 2
}
