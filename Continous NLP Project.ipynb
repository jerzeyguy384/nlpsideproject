{
 "cells": [
  {
   "cell_type": "code",
   "execution_count": 23,
   "metadata": {
    "collapsed": false
   },
   "outputs": [],
   "source": [
    "import glob\n",
    "import pandas as pd\n",
    "import numpy as np\n",
    "import scipy as sp\n",
    "from sklearn.cross_validation import train_test_split\n",
    "from sklearn.feature_extraction.text import CountVectorizer, TfidfVectorizer\n",
    "from sklearn.naive_bayes import MultinomialNB\n",
    "from sklearn.linear_model import LogisticRegression\n",
    "from sklearn import metrics\n",
    "from textblob import TextBlob, Word\n",
    "from nltk.stem.snowball import SnowballStemmer\n",
    "%matplotlib inline"
   ]
  },
  {
   "cell_type": "code",
   "execution_count": 32,
   "metadata": {
    "collapsed": true
   },
   "outputs": [],
   "source": [
    "from sklearn.cross_validation import train_test_split"
   ]
  },
  {
   "cell_type": "code",
   "execution_count": 16,
   "metadata": {
    "collapsed": false,
    "scrolled": true
   },
   "outputs": [],
   "source": [
    "#Combining CSV Files\n",
    "#C:\\Users\\Pedro\\Documents\\nlpsideproject\\data\n",
    "fout=open(\"compiled.csv\",\"a\")\n",
    "# first file:\n",
    "for line in open(\"C:/Users/Pedro/Documents/nlpsideproject/data/yelp_data_second_0.csv\"):\n",
    "    fout.write(line)\n",
    "# now the rest:    \n",
    "for num in range(1,24):\n",
    "    f = open(\"C:/Users/Pedro/Documents/nlpsideproject/data/yelp_data_second_\"+str(num)+\".csv\")\n",
    "    f.next() # skip the header\n",
    "    for line in f:\n",
    "         fout.write(line)\n",
    "    f.close() # not really needed\n",
    "fout.close()"
   ]
  },
  {
   "cell_type": "code",
   "execution_count": 27,
   "metadata": {
    "collapsed": true
   },
   "outputs": [],
   "source": [
    "url = 'C:/Users/Pedro/Documents/nlpsideproject/compiled.csv'"
   ]
  },
  {
   "cell_type": "code",
   "execution_count": 29,
   "metadata": {
    "collapsed": false,
    "scrolled": true
   },
   "outputs": [],
   "source": [
    "yelp = pd.read_csv(url)"
   ]
  },
  {
   "cell_type": "code",
   "execution_count": 30,
   "metadata": {
    "collapsed": false
   },
   "outputs": [
    {
     "data": {
      "text/html": [
       "<div>\n",
       "<table border=\"1\" class=\"dataframe\">\n",
       "  <thead>\n",
       "    <tr style=\"text-align: right;\">\n",
       "      <th></th>\n",
       "      <th>rest_name</th>\n",
       "      <th>username</th>\n",
       "      <th>review</th>\n",
       "      <th>stars</th>\n",
       "      <th>date</th>\n",
       "      <th>location</th>\n",
       "    </tr>\n",
       "  </thead>\n",
       "  <tbody>\n",
       "    <tr>\n",
       "      <th>0</th>\n",
       "      <td>La Jambe</td>\n",
       "      <td>/user_details?userid=GBjdziANdkk29jjwOBj5ow</td>\n",
       "      <td>This review is massively overdue (I don't writ...</td>\n",
       "      <td>5.0</td>\n",
       "      <td>2017-08-25</td>\n",
       "      <td>Washington, DC</td>\n",
       "    </tr>\n",
       "    <tr>\n",
       "      <th>1</th>\n",
       "      <td>La Jambe</td>\n",
       "      <td>/user_details?userid=X3Ki2Z6JTn9gbuz23NO3kg</td>\n",
       "      <td>My friends and I were looking for a good happy...</td>\n",
       "      <td>4.0</td>\n",
       "      <td>2017-09-25</td>\n",
       "      <td>Washington, DC</td>\n",
       "    </tr>\n",
       "    <tr>\n",
       "      <th>2</th>\n",
       "      <td>La Jambe</td>\n",
       "      <td>/user_details?userid=dOYJX2FBw5FXDBwXZZoq7A</td>\n",
       "      <td>Elegant and intimate - La Jambe has an unexpec...</td>\n",
       "      <td>4.0</td>\n",
       "      <td>2017-08-11</td>\n",
       "      <td>Washington, DC</td>\n",
       "    </tr>\n",
       "    <tr>\n",
       "      <th>3</th>\n",
       "      <td>La Jambe</td>\n",
       "      <td>/user_details?userid=ZaJ6zPDAc7YaDTE2QEBGPA</td>\n",
       "      <td>This place is really special. If your in the a...</td>\n",
       "      <td>5.0</td>\n",
       "      <td>2017-07-23</td>\n",
       "      <td>Red Bank, NJ</td>\n",
       "    </tr>\n",
       "    <tr>\n",
       "      <th>4</th>\n",
       "      <td>La Jambe</td>\n",
       "      <td>/user_details?userid=mz8Q8yEOkgjaISIqzUSHLg</td>\n",
       "      <td>Hooray for happy hour! $5 for delicious wines?...</td>\n",
       "      <td>4.0</td>\n",
       "      <td>2017-07-10</td>\n",
       "      <td>Washington, DC</td>\n",
       "    </tr>\n",
       "  </tbody>\n",
       "</table>\n",
       "</div>"
      ],
      "text/plain": [
       "  rest_name                                     username  \\\n",
       "0  La Jambe  /user_details?userid=GBjdziANdkk29jjwOBj5ow   \n",
       "1  La Jambe  /user_details?userid=X3Ki2Z6JTn9gbuz23NO3kg   \n",
       "2  La Jambe  /user_details?userid=dOYJX2FBw5FXDBwXZZoq7A   \n",
       "3  La Jambe  /user_details?userid=ZaJ6zPDAc7YaDTE2QEBGPA   \n",
       "4  La Jambe  /user_details?userid=mz8Q8yEOkgjaISIqzUSHLg   \n",
       "\n",
       "                                              review  stars        date  \\\n",
       "0  This review is massively overdue (I don't writ...    5.0  2017-08-25   \n",
       "1  My friends and I were looking for a good happy...    4.0  2017-09-25   \n",
       "2  Elegant and intimate - La Jambe has an unexpec...    4.0  2017-08-11   \n",
       "3  This place is really special. If your in the a...    5.0  2017-07-23   \n",
       "4  Hooray for happy hour! $5 for delicious wines?...    4.0  2017-07-10   \n",
       "\n",
       "         location  \n",
       "0  Washington, DC  \n",
       "1  Washington, DC  \n",
       "2  Washington, DC  \n",
       "3    Red Bank, NJ  \n",
       "4  Washington, DC  "
      ]
     },
     "execution_count": 30,
     "metadata": {},
     "output_type": "execute_result"
    }
   ],
   "source": [
    "yelp.head()"
   ]
  },
  {
   "cell_type": "code",
   "execution_count": 39,
   "metadata": {
    "collapsed": true
   },
   "outputs": [],
   "source": [
    "#creating the dataframe\n",
    "yelp_best_worst = []"
   ]
  },
  {
   "cell_type": "code",
   "execution_count": 40,
   "metadata": {
    "collapsed": false
   },
   "outputs": [],
   "source": [
    "# create a new DataFrame that only contains the 5-star and 1-star reviews\n",
    "yelp_best_worst = yelp[(yelp.stars==5) | (yelp.stars==1)]"
   ]
  },
  {
   "cell_type": "code",
   "execution_count": 43,
   "metadata": {
    "collapsed": false
   },
   "outputs": [],
   "source": [
    "# read yelp.csv into a DataFrame\n",
    "url = 'C:/Users/Pedro/Documents/nlpsideproject/compiled.csv'\n",
    "yelp = pd.read_csv(url)\n",
    "\n",
    "# create a new DataFrame that only contains the 5-star and 1-star reviews\n",
    "yelp_best_worst = yelp[(yelp.stars==5) | (yelp.stars==1)]\n",
    "\n",
    "# define X and y\n",
    "X = yelp_best_worst.review\n",
    "y = yelp_best_worst.stars\n",
    "\n",
    "# split the new DataFrame into training and testing sets\n",
    "X_train, X_test, y_train, y_test = train_test_split(X, y, random_state=1)"
   ]
  },
  {
   "cell_type": "code",
   "execution_count": 48,
   "metadata": {
    "collapsed": false
   },
   "outputs": [
    {
     "data": {
      "text/plain": [
       "\"This review is massively overdue (I don't write a lot of reviews). My husband and I are semi-regulars at this place. Anastasia and Dave are friendly people with great taste, and they have created wonderful, unpretentious wine bar. The wine list is delicious - we have our favorites like everyone but have never had a bad wine from their list - and the staff give great advice if you're not sure. Anastasia even gave us recommendations about which wineries to hit up in her native land on our summer vacation.\\r\\n\\r\\nThe food is yummy too, if you're okay with the dishes being a bit on the small side for the price.\\r\\n\\r\\nOverall, this place has us coming back on the regular. The only downside is they've been so successful that it's rarer to see Anastasia and Dave hanging around these days, but that just means they've been doing well. \\r\\n\\r\\nA must-try if you live in the U Street/Shaw/Mt. Vernon area.\\r\\n\""
      ]
     },
     "execution_count": 48,
     "metadata": {},
     "output_type": "execute_result"
    }
   ],
   "source": [
    "yelp_best_worst.ix[0].review"
   ]
  },
  {
   "cell_type": "code",
   "execution_count": 45,
   "metadata": {
    "collapsed": true
   },
   "outputs": [],
   "source": [
    "# define X and y\n",
    "X = yelp_best_worst.review\n",
    "y = yelp_best_worst.stars"
   ]
  },
  {
   "cell_type": "code",
   "execution_count": 46,
   "metadata": {
    "collapsed": false
   },
   "outputs": [],
   "source": [
    "# split the new DataFrame into training and testing sets\n",
    "X_train, X_test, y_train, y_test = train_test_split(X, y, random_state=1)"
   ]
  },
  {
   "cell_type": "code",
   "execution_count": 47,
   "metadata": {
    "collapsed": false
   },
   "outputs": [
    {
     "name": "stdout",
     "output_type": "stream",
     "text": [
      "173\n",
      "58\n"
     ]
    }
   ],
   "source": [
    "print len(X_train)\n",
    "print len(X_test)"
   ]
  },
  {
   "cell_type": "markdown",
   "metadata": {},
   "source": [
    "# Tokenization"
   ]
  },
  {
   "cell_type": "code",
   "execution_count": 49,
   "metadata": {
    "collapsed": true
   },
   "outputs": [],
   "source": [
    "# use CountVectorizer to create document-term matrices from X_train and X_test\n",
    "vect = CountVectorizer()\n",
    "X_train_dtm = vect.fit_transform(X_train)\n",
    "X_test_dtm = vect.transform(X_test)"
   ]
  },
  {
   "cell_type": "code",
   "execution_count": 50,
   "metadata": {
    "collapsed": false
   },
   "outputs": [
    {
     "data": {
      "text/plain": [
       "(173, 2259)"
      ]
     },
     "execution_count": 50,
     "metadata": {},
     "output_type": "execute_result"
    }
   ],
   "source": [
    "# rows are documents, columns are terms (aka \"tokens\" or \"features\")\n",
    "X_train_dtm.shape"
   ]
  },
  {
   "cell_type": "code",
   "execution_count": 51,
   "metadata": {
    "collapsed": false
   },
   "outputs": [
    {
     "name": "stdout",
     "output_type": "stream",
     "text": [
      "[u'wining', u'winners', u'winter', u'wish', u'with', u'within', u'without', u'won', u'wondered', u'wonderful', u'wood', u'word', u'words', u'work', u'working', u'world', u'worried', u'worse', u'worst', u'worth', u'would', u'wouldn', u'wow', u'wrapped', u'wreck', u'wrestled', u'write', u'writing', u'written', u'wrong', u'yard', u'yasmani', u'yasmini', u'yaz', u'yeah', u'year', u'yelp', u'yelper', u'yesterday', u'yet', u'you', u'your', u'yourself', u'youthful', u'yum', u'yummy', u'zabaglione', u'zero', u'zoo', u'zucchini']\n"
     ]
    }
   ],
   "source": [
    "# last 50 features\n",
    "print vect.get_feature_names()[-50:]"
   ]
  },
  {
   "cell_type": "code",
   "execution_count": 52,
   "metadata": {
    "collapsed": false
   },
   "outputs": [
    {
     "data": {
      "text/plain": [
       "CountVectorizer(analyzer=u'word', binary=False, decode_error=u'strict',\n",
       "        dtype=<type 'numpy.int64'>, encoding=u'utf-8', input=u'content',\n",
       "        lowercase=True, max_df=1.0, max_features=None, min_df=1,\n",
       "        ngram_range=(1, 1), preprocessor=None, stop_words=None,\n",
       "        strip_accents=None, token_pattern=u'(?u)\\\\b\\\\w\\\\w+\\\\b',\n",
       "        tokenizer=None, vocabulary=None)"
      ]
     },
     "execution_count": 52,
     "metadata": {},
     "output_type": "execute_result"
    }
   ],
   "source": [
    "# show vectorizer options\n",
    "vect"
   ]
  },
  {
   "cell_type": "code",
   "execution_count": 53,
   "metadata": {
    "collapsed": false
   },
   "outputs": [
    {
     "data": {
      "text/plain": [
       "(173, 2530)"
      ]
     },
     "execution_count": 53,
     "metadata": {},
     "output_type": "execute_result"
    }
   ],
   "source": [
    "# don't convert to lowercase\n",
    "vect = CountVectorizer(lowercase=False)\n",
    "X_train_dtm = vect.fit_transform(X_train)\n",
    "X_train_dtm.shape"
   ]
  },
  {
   "cell_type": "code",
   "execution_count": 54,
   "metadata": {
    "collapsed": false
   },
   "outputs": [
    {
     "data": {
      "text/plain": [
       "(173, 11552)"
      ]
     },
     "execution_count": 54,
     "metadata": {},
     "output_type": "execute_result"
    }
   ],
   "source": [
    "# include 1-grams and 2-grams\n",
    "vect = CountVectorizer(ngram_range=(1, 2))\n",
    "X_train_dtm = vect.fit_transform(X_train)\n",
    "X_train_dtm.shape"
   ]
  },
  {
   "cell_type": "code",
   "execution_count": 55,
   "metadata": {
    "collapsed": false
   },
   "outputs": [
    {
     "name": "stdout",
     "output_type": "stream",
     "text": [
      "[u'you this', u'you understand', u'you ve', u'you walk', u'you want', u'you won', u'your', u'your average', u'your credit', u'your customers', u'your employees', u'your experience', u'your friends', u'your grandmother', u'your heart', u'your in', u'your liking', u'your money', u'your mood', u'your mouth', u'your night', u'your palette', u'your preferences', u'your radar', u'your server', u'your staff', u'your thing', u'your time', u'your unsure', u'yourself', u'yourself favor', u'yourself longing', u'youthful', u'youthful energy', u'yum', u'yum for', u'yummy', u'yummy and', u'yummy grilled', u'yummy too', u'zabaglione', u'zabaglione divine', u'zero', u'zero complaints', u'zero hassle', u'zoo', u'zoo deal', u'zucchini', u'zucchini fritters', u'zucchini mix']\n"
     ]
    }
   ],
   "source": [
    "# last 50 features\n",
    "print vect.get_feature_names()[-50:]"
   ]
  },
  {
   "cell_type": "code",
   "execution_count": 56,
   "metadata": {
    "collapsed": false
   },
   "outputs": [
    {
     "name": "stdout",
     "output_type": "stream",
     "text": [
      "0.98275862069\n"
     ]
    }
   ],
   "source": [
    "# use default options for CountVectorizer\n",
    "vect = CountVectorizer()\n",
    "\n",
    "# create document-term matrices\n",
    "X_train_dtm = vect.fit_transform(X_train)\n",
    "X_test_dtm = vect.transform(X_test)\n",
    "\n",
    "# use Naive Bayes  to predict the star rating\n",
    "nb = MultinomialNB()\n",
    "nb.fit(X_train_dtm, y_train)\n",
    "y_pred_class = nb.predict(X_test_dtm)\n",
    "\n",
    "# calculate accuracy\n",
    "print metrics.accuracy_score(y_test, y_pred_class)"
   ]
  },
  {
   "cell_type": "code",
   "execution_count": 57,
   "metadata": {
    "collapsed": false
   },
   "outputs": [
    {
     "data": {
      "text/plain": [
       "0.96551724137931039"
      ]
     },
     "execution_count": 57,
     "metadata": {},
     "output_type": "execute_result"
    }
   ],
   "source": [
    "# calculate null accuracy\n",
    "y_test_binary = np.where(y_test==5, 1, 0)\n",
    "max(y_test_binary.mean(), 1 - y_test_binary.mean())"
   ]
  },
  {
   "cell_type": "code",
   "execution_count": 58,
   "metadata": {
    "collapsed": true
   },
   "outputs": [],
   "source": [
    "# define a function that accepts a vectorizer and calculates the accuracy\n",
    "def tokenize_test(vect):\n",
    "    X_train_dtm = vect.fit_transform(X_train)\n",
    "    print 'Features: ', X_train_dtm.shape[1]\n",
    "    X_test_dtm = vect.transform(X_test)\n",
    "    nb = MultinomialNB()\n",
    "    nb.fit(X_train_dtm, y_train)\n",
    "    y_pred_class = nb.predict(X_test_dtm)\n",
    "    print 'Accuracy: ', metrics.accuracy_score(y_test, y_pred_class)"
   ]
  },
  {
   "cell_type": "code",
   "execution_count": 59,
   "metadata": {
    "collapsed": false
   },
   "outputs": [
    {
     "name": "stdout",
     "output_type": "stream",
     "text": [
      "Features:  11552\n",
      "Accuracy:  0.98275862069\n"
     ]
    }
   ],
   "source": [
    "# include 1-grams and 2-grams\n",
    "vect = CountVectorizer(ngram_range=(1, 2))\n",
    "tokenize_test(vect)"
   ]
  },
  {
   "cell_type": "markdown",
   "metadata": {},
   "source": [
    "# Part 3 - Stop Word Removals"
   ]
  },
  {
   "cell_type": "code",
   "execution_count": 60,
   "metadata": {
    "collapsed": false
   },
   "outputs": [
    {
     "data": {
      "text/plain": [
       "CountVectorizer(analyzer=u'word', binary=False, decode_error=u'strict',\n",
       "        dtype=<type 'numpy.int64'>, encoding=u'utf-8', input=u'content',\n",
       "        lowercase=True, max_df=1.0, max_features=None, min_df=1,\n",
       "        ngram_range=(1, 2), preprocessor=None, stop_words=None,\n",
       "        strip_accents=None, token_pattern=u'(?u)\\\\b\\\\w\\\\w+\\\\b',\n",
       "        tokenizer=None, vocabulary=None)"
      ]
     },
     "execution_count": 60,
     "metadata": {},
     "output_type": "execute_result"
    }
   ],
   "source": [
    "# show vectorizer options\n",
    "vect"
   ]
  },
  {
   "cell_type": "code",
   "execution_count": 61,
   "metadata": {
    "collapsed": false
   },
   "outputs": [
    {
     "name": "stdout",
     "output_type": "stream",
     "text": [
      "Features:  2036\n",
      "Accuracy:  1.0\n"
     ]
    }
   ],
   "source": [
    "# remove English stop words\n",
    "vect = CountVectorizer(stop_words='english')\n",
    "tokenize_test(vect)"
   ]
  },
  {
   "cell_type": "code",
   "execution_count": 62,
   "metadata": {
    "collapsed": false
   },
   "outputs": [
    {
     "name": "stdout",
     "output_type": "stream",
     "text": [
      "frozenset(['all', 'six', 'less', 'being', 'indeed', 'over', 'move', 'anyway', 'fifty', 'four', 'not', 'own', 'through', 'yourselves', 'go', 'where', 'mill', 'only', 'find', 'before', 'one', 'whose', 'system', 'how', 'somewhere', 'with', 'thick', 'show', 'had', 'enough', 'should', 'to', 'must', 'whom', 'seeming', 'under', 'ours', 'has', 'might', 'thereafter', 'latterly', 'do', 'them', 'his', 'around', 'than', 'get', 'very', 'de', 'none', 'cannot', 'every', 'whether', 'they', 'front', 'during', 'thus', 'now', 'him', 'nor', 'name', 'several', 'hereafter', 'always', 'who', 'cry', 'whither', 'this', 'someone', 'either', 'each', 'become', 'thereupon', 'sometime', 'side', 'two', 'therein', 'twelve', 'because', 'often', 'ten', 'our', 'eg', 'some', 'back', 'up', 'namely', 'towards', 'are', 'further', 'beyond', 'ourselves', 'yet', 'out', 'even', 'will', 'what', 'still', 'for', 'bottom', 'mine', 'since', 'please', 'forty', 'per', 'its', 'everything', 'behind', 'un', 'above', 'between', 'it', 'neither', 'seemed', 'ever', 'across', 'she', 'somehow', 'be', 'we', 'full', 'never', 'sixty', 'however', 'here', 'otherwise', 'were', 'whereupon', 'nowhere', 'although', 'found', 'alone', 're', 'along', 'fifteen', 'by', 'both', 'about', 'last', 'would', 'anything', 'via', 'many', 'could', 'thence', 'put', 'against', 'keep', 'etc', 'amount', 'became', 'ltd', 'hence', 'onto', 'or', 'con', 'among', 'already', 'co', 'afterwards', 'formerly', 'within', 'seems', 'into', 'others', 'while', 'whatever', 'except', 'down', 'hers', 'everyone', 'done', 'least', 'another', 'whoever', 'moreover', 'couldnt', 'throughout', 'anyhow', 'yourself', 'three', 'from', 'her', 'few', 'together', 'top', 'there', 'due', 'been', 'next', 'anyone', 'eleven', 'much', 'call', 'therefore', 'interest', 'then', 'thru', 'themselves', 'hundred', 'was', 'sincere', 'empty', 'more', 'himself', 'elsewhere', 'mostly', 'on', 'fire', 'am', 'becoming', 'hereby', 'amongst', 'else', 'part', 'everywhere', 'too', 'herself', 'former', 'those', 'he', 'me', 'myself', 'made', 'twenty', 'these', 'bill', 'cant', 'us', 'until', 'besides', 'nevertheless', 'below', 'anywhere', 'nine', 'can', 'of', 'toward', 'my', 'something', 'and', 'whereafter', 'whenever', 'give', 'almost', 'wherever', 'is', 'describe', 'beforehand', 'herein', 'an', 'as', 'itself', 'at', 'have', 'in', 'seem', 'whence', 'ie', 'any', 'fill', 'again', 'hasnt', 'inc', 'thereby', 'thin', 'no', 'perhaps', 'latter', 'meanwhile', 'when', 'detail', 'same', 'wherein', 'beside', 'also', 'that', 'other', 'take', 'which', 'becomes', 'you', 'if', 'nobody', 'see', 'though', 'may', 'after', 'upon', 'most', 'hereupon', 'eight', 'but', 'serious', 'nothing', 'such', 'your', 'why', 'a', 'off', 'whereby', 'third', 'i', 'whole', 'noone', 'sometimes', 'well', 'amoungst', 'yours', 'their', 'rather', 'without', 'so', 'five', 'the', 'first', 'whereas', 'once'])\n"
     ]
    }
   ],
   "source": [
    "# set of stop words\n",
    "print vect.get_stop_words()"
   ]
  },
  {
   "cell_type": "code",
   "execution_count": 63,
   "metadata": {
    "collapsed": false
   },
   "outputs": [
    {
     "name": "stdout",
     "output_type": "stream",
     "text": [
      "Features:  100\n",
      "Accuracy:  0.965517241379\n"
     ]
    }
   ],
   "source": [
    "# remove English stop words and only keep 100 features\n",
    "vect = CountVectorizer(stop_words='english', max_features=100)\n",
    "tokenize_test(vect)"
   ]
  },
  {
   "cell_type": "code",
   "execution_count": 64,
   "metadata": {
    "collapsed": false
   },
   "outputs": [
    {
     "name": "stdout",
     "output_type": "stream",
     "text": [
      "[u'absolutely', u'amazing', u'ambiance', u'area', u'asked', u'atmosphere', u'bar', u'bartender', u'best', u'bottle', u'bread', u'came', u'charcuterie', u'cheese', u'cheeses', u'cocktails', u'come', u'crowded', u'date', u'dc', u'definitely', u'delicious', u'didn', u'different', u'dinner', u'don', u'drink', u'drinks', u'enjoyed', u'excellent', u'experience', u'fantastic', u'flight', u'food', u'french', u'friend', u'friendly', u'friends', u'gem', u'glass', u'glasses', u'going', u'good', u'got', u'great', u'group', u'happy', u'hour', u'jambe', u'just', u'knowledgeable', u'la', u'like', u'list', u'little', u'll', u'love', u'loved', u'make', u'meat', u'menu', u'neighborhood', u'new', u'nice', u'night', u'order', u'ordered', u'people', u'place', u'plate', u'plates', u'price', u'prices', u'really', u'recommend', u'restaurant', u'review', u'right', u'saturday', u'selection', u'server', u'service', u'shaw', u'small', u'spot', u'staff', u'super', u'table', u'time', u'tried', u'try', u'unique', u've', u'want', u'wasn', u'way', u'went', u'wine', u'wines', u'wonderful']\n"
     ]
    }
   ],
   "source": [
    "# all 100 features\n",
    "print vect.get_feature_names()"
   ]
  },
  {
   "cell_type": "code",
   "execution_count": 65,
   "metadata": {
    "collapsed": false
   },
   "outputs": [
    {
     "name": "stdout",
     "output_type": "stream",
     "text": [
      "Features:  11552\n",
      "Accuracy:  0.98275862069\n"
     ]
    }
   ],
   "source": [
    "# include 1-grams and 2-grams, and limit the number of features\n",
    "vect = CountVectorizer(ngram_range=(1, 2), max_features=100000)\n",
    "tokenize_test(vect)"
   ]
  },
  {
   "cell_type": "code",
   "execution_count": 66,
   "metadata": {
    "collapsed": false
   },
   "outputs": [
    {
     "name": "stdout",
     "output_type": "stream",
     "text": [
      "Features:  3871\n",
      "Accuracy:  0.98275862069\n"
     ]
    }
   ],
   "source": [
    "# include 1-grams and 2-grams, and only include terms that appear at least 2 times\n",
    "vect = CountVectorizer(ngram_range=(1, 2), min_df=2)\n",
    "tokenize_test(vect)"
   ]
  },
  {
   "cell_type": "markdown",
   "metadata": {},
   "source": [
    "Introduction to TextBlob"
   ]
  },
  {
   "cell_type": "code",
   "execution_count": 68,
   "metadata": {
    "collapsed": false
   },
   "outputs": [
    {
     "name": "stdout",
     "output_type": "stream",
     "text": [
      "This review is massively overdue (I don't write a lot of reviews). My husband and I are semi-regulars at this place. Anastasia and Dave are friendly people with great taste, and they have created wonderful, unpretentious wine bar. The wine list is delicious - we have our favorites like everyone but have never had a bad wine from their list - and the staff give great advice if you're not sure. Anastasia even gave us recommendations about which wineries to hit up in her native land on our summer vacation.\r\n",
      "\r\n",
      "The food is yummy too, if you're okay with the dishes being a bit on the small side for the price.\r\n",
      "\r\n",
      "Overall, this place has us coming back on the regular. The only downside is they've been so successful that it's rarer to see Anastasia and Dave hanging around these days, but that just means they've been doing well. \r\n",
      "\r\n",
      "A must-try if you live in the U Street/Shaw/Mt. Vernon area.\r\n",
      "\n"
     ]
    }
   ],
   "source": [
    "# print the first review\n",
    "print yelp_best_worst.review[0]"
   ]
  },
  {
   "cell_type": "code",
   "execution_count": 70,
   "metadata": {
    "collapsed": true
   },
   "outputs": [],
   "source": [
    "# save it as a TextBlob object\n",
    "review = TextBlob(yelp_best_worst.review[0])"
   ]
  },
  {
   "cell_type": "code",
   "execution_count": 71,
   "metadata": {
    "collapsed": false
   },
   "outputs": [
    {
     "data": {
      "text/plain": [
       "WordList(['This', 'review', 'is', 'massively', 'overdue', 'I', 'do', \"n't\", 'write', 'a', 'lot', 'of', 'reviews', 'My', 'husband', 'and', 'I', 'are', 'semi-regulars', 'at', 'this', 'place', 'Anastasia', 'and', 'Dave', 'are', 'friendly', 'people', 'with', 'great', 'taste', 'and', 'they', 'have', 'created', 'wonderful', 'unpretentious', 'wine', 'bar', 'The', 'wine', 'list', 'is', 'delicious', 'we', 'have', 'our', 'favorites', 'like', 'everyone', 'but', 'have', 'never', 'had', 'a', 'bad', 'wine', 'from', 'their', 'list', 'and', 'the', 'staff', 'give', 'great', 'advice', 'if', 'you', \"'re\", 'not', 'sure', 'Anastasia', 'even', 'gave', 'us', 'recommendations', 'about', 'which', 'wineries', 'to', 'hit', 'up', 'in', 'her', 'native', 'land', 'on', 'our', 'summer', 'vacation', 'The', 'food', 'is', 'yummy', 'too', 'if', 'you', \"'re\", 'okay', 'with', 'the', 'dishes', 'being', 'a', 'bit', 'on', 'the', 'small', 'side', 'for', 'the', 'price', 'Overall', 'this', 'place', 'has', 'us', 'coming', 'back', 'on', 'the', 'regular', 'The', 'only', 'downside', 'is', 'they', \"'ve\", 'been', 'so', 'successful', 'that', 'it', \"'s\", 'rarer', 'to', 'see', 'Anastasia', 'and', 'Dave', 'hanging', 'around', 'these', 'days', 'but', 'that', 'just', 'means', 'they', \"'ve\", 'been', 'doing', 'well', 'A', 'must-try', 'if', 'you', 'live', 'in', 'the', 'U', 'Street/Shaw/Mt', 'Vernon', 'area'])"
      ]
     },
     "execution_count": 71,
     "metadata": {},
     "output_type": "execute_result"
    }
   ],
   "source": [
    "# list the words\n",
    "review.words"
   ]
  },
  {
   "cell_type": "code",
   "execution_count": 72,
   "metadata": {
    "collapsed": false
   },
   "outputs": [
    {
     "data": {
      "text/plain": [
       "[Sentence(\"This review is massively overdue (I don't write a lot of reviews).\"),\n",
       " Sentence(\"My husband and I are semi-regulars at this place.\"),\n",
       " Sentence(\"Anastasia and Dave are friendly people with great taste, and they have created wonderful, unpretentious wine bar.\"),\n",
       " Sentence(\"The wine list is delicious - we have our favorites like everyone but have never had a bad wine from their list - and the staff give great advice if you're not sure.\"),\n",
       " Sentence(\"Anastasia even gave us recommendations about which wineries to hit up in her native land on our summer vacation.\"),\n",
       " Sentence(\"The food is yummy too, if you're okay with the dishes being a bit on the small side for the price.\"),\n",
       " Sentence(\"Overall, this place has us coming back on the regular.\"),\n",
       " Sentence(\"The only downside is they've been so successful that it's rarer to see Anastasia and Dave hanging around these days, but that just means they've been doing well.\"),\n",
       " Sentence(\"A must-try if you live in the U Street/Shaw/Mt.\"),\n",
       " Sentence(\"Vernon area.\n",
       " \")]"
      ]
     },
     "execution_count": 72,
     "metadata": {},
     "output_type": "execute_result"
    }
   ],
   "source": [
    "# list the sentences\n",
    "review.sentences"
   ]
  },
  {
   "cell_type": "code",
   "execution_count": 73,
   "metadata": {
    "collapsed": false
   },
   "outputs": [
    {
     "data": {
      "text/plain": [
       "TextBlob(\"this review is massively overdue (i don't write a lot of reviews). my husband and i are semi-regulars at this place. anastasia and dave are friendly people with great taste, and they have created wonderful, unpretentious wine bar. the wine list is delicious - we have our favorites like everyone but have never had a bad wine from their list - and the staff give great advice if you're not sure. anastasia even gave us recommendations about which wineries to hit up in her native land on our summer vacation.\n",
       "\n",
       "the food is yummy too, if you're okay with the dishes being a bit on the small side for the price.\n",
       "\n",
       "overall, this place has us coming back on the regular. the only downside is they've been so successful that it's rarer to see anastasia and dave hanging around these days, but that just means they've been doing well. \n",
       "\n",
       "a must-try if you live in the u street/shaw/mt. vernon area.\n",
       "\")"
      ]
     },
     "execution_count": 73,
     "metadata": {},
     "output_type": "execute_result"
    }
   ],
   "source": [
    "# some string methods are available\n",
    "review.lower()"
   ]
  },
  {
   "cell_type": "markdown",
   "metadata": {},
   "source": [
    "# Part 6: Stemming and Lemmatization"
   ]
  },
  {
   "cell_type": "code",
   "execution_count": 74,
   "metadata": {
    "collapsed": false
   },
   "outputs": [
    {
     "name": "stdout",
     "output_type": "stream",
     "text": [
      "[u'this', u'review', u'is', u'massiv', u'overdu', u'i', u'do', u\"n't\", u'write', u'a', u'lot', u'of', u'review', u'my', u'husband', u'and', u'i', u'are', u'semi-regular', u'at', u'this', u'place', u'anastasia', u'and', u'dave', u'are', u'friend', u'peopl', u'with', u'great', u'tast', u'and', u'they', u'have', u'creat', u'wonder', u'unpretenti', u'wine', u'bar', u'the', u'wine', u'list', u'is', u'delici', u'we', u'have', u'our', u'favorit', u'like', u'everyon', u'but', u'have', u'never', u'had', u'a', u'bad', u'wine', u'from', u'their', u'list', u'and', u'the', u'staff', u'give', u'great', u'advic', u'if', u'you', u're', u'not', u'sure', u'anastasia', u'even', u'gave', u'us', u'recommend', u'about', u'which', u'wineri', u'to', u'hit', u'up', u'in', u'her', u'nativ', u'land', u'on', u'our', u'summer', u'vacat', u'the', u'food', u'is', u'yummi', u'too', u'if', u'you', u're', u'okay', u'with', u'the', u'dish', u'be', u'a', u'bit', u'on', u'the', u'small', u'side', u'for', u'the', u'price', u'overal', u'this', u'place', u'has', u'us', u'come', u'back', u'on', u'the', u'regular', u'the', u'onli', u'downsid', u'is', u'they', u've', u'been', u'so', u'success', u'that', u'it', u\"'s\", u'rarer', u'to', u'see', u'anastasia', u'and', u'dave', u'hang', u'around', u'these', u'day', u'but', u'that', u'just', u'mean', u'they', u've', u'been', u'do', u'well', u'a', u'must-tri', u'if', u'you', u'live', u'in', u'the', u'u', u'street/shaw/mt', u'vernon', u'area']\n"
     ]
    }
   ],
   "source": [
    "# initialize stemmer\n",
    "stemmer = SnowballStemmer('english')\n",
    "\n",
    "# stem each word\n",
    "print [stemmer.stem(word) for word in review.words]"
   ]
  },
  {
   "cell_type": "code",
   "execution_count": 75,
   "metadata": {
    "collapsed": false
   },
   "outputs": [
    {
     "name": "stdout",
     "output_type": "stream",
     "text": [
      "['This', 'review', 'is', 'massively', 'overdue', 'I', 'do', \"n't\", 'write', 'a', 'lot', 'of', u'review', 'My', 'husband', 'and', 'I', 'are', 'semi-regulars', 'at', 'this', 'place', 'Anastasia', 'and', 'Dave', 'are', 'friendly', 'people', 'with', 'great', 'taste', 'and', 'they', 'have', 'created', 'wonderful', 'unpretentious', 'wine', 'bar', 'The', 'wine', 'list', 'is', 'delicious', 'we', 'have', 'our', u'favorite', 'like', 'everyone', 'but', 'have', 'never', 'had', 'a', 'bad', 'wine', 'from', 'their', 'list', 'and', 'the', 'staff', 'give', 'great', 'advice', 'if', 'you', \"'re\", 'not', 'sure', 'Anastasia', 'even', 'gave', u'u', u'recommendation', 'about', 'which', u'winery', 'to', 'hit', 'up', 'in', 'her', 'native', 'land', 'on', 'our', 'summer', 'vacation', 'The', 'food', 'is', 'yummy', 'too', 'if', 'you', \"'re\", 'okay', 'with', 'the', u'dish', 'being', 'a', 'bit', 'on', 'the', 'small', 'side', 'for', 'the', 'price', 'Overall', 'this', 'place', u'ha', u'u', 'coming', 'back', 'on', 'the', 'regular', 'The', 'only', 'downside', 'is', 'they', \"'ve\", 'been', 'so', 'successful', 'that', 'it', \"'s\", 'rarer', 'to', 'see', 'Anastasia', 'and', 'Dave', 'hanging', 'around', 'these', u'day', 'but', 'that', 'just', u'mean', 'they', \"'ve\", 'been', 'doing', 'well', 'A', 'must-try', 'if', 'you', 'live', 'in', 'the', 'U', 'Street/Shaw/Mt', 'Vernon', 'area']\n"
     ]
    }
   ],
   "source": [
    "# assume every word is a noun\n",
    "print [word.lemmatize() for word in review.words]"
   ]
  },
  {
   "cell_type": "code",
   "execution_count": 76,
   "metadata": {
    "collapsed": false
   },
   "outputs": [
    {
     "name": "stdout",
     "output_type": "stream",
     "text": [
      "['This', 'review', u'be', 'massively', 'overdue', 'I', 'do', \"n't\", 'write', 'a', 'lot', 'of', u'review', 'My', 'husband', 'and', 'I', u'be', 'semi-regulars', 'at', 'this', 'place', 'Anastasia', 'and', 'Dave', u'be', 'friendly', 'people', 'with', 'great', 'taste', 'and', 'they', 'have', u'create', 'wonderful', 'unpretentious', 'wine', 'bar', 'The', 'wine', 'list', u'be', 'delicious', 'we', 'have', 'our', 'favorites', 'like', 'everyone', 'but', 'have', 'never', u'have', 'a', 'bad', 'wine', 'from', 'their', 'list', 'and', 'the', 'staff', 'give', 'great', 'advice', 'if', 'you', \"'re\", 'not', 'sure', 'Anastasia', 'even', u'give', 'us', 'recommendations', 'about', 'which', 'wineries', 'to', 'hit', 'up', 'in', 'her', 'native', 'land', 'on', 'our', 'summer', 'vacation', 'The', 'food', u'be', 'yummy', 'too', 'if', 'you', \"'re\", 'okay', 'with', 'the', u'dish', u'be', 'a', u'bite', 'on', 'the', 'small', 'side', 'for', 'the', 'price', 'Overall', 'this', 'place', u'have', 'us', u'come', 'back', 'on', 'the', 'regular', 'The', 'only', 'downside', u'be', 'they', \"'ve\", u'be', 'so', 'successful', 'that', 'it', \"'s\", 'rarer', 'to', 'see', 'Anastasia', 'and', 'Dave', u'hang', 'around', 'these', 'days', 'but', 'that', 'just', u'mean', 'they', \"'ve\", u'be', u'do', 'well', 'A', 'must-try', 'if', 'you', 'live', 'in', 'the', 'U', 'Street/Shaw/Mt', 'Vernon', 'area']\n"
     ]
    }
   ],
   "source": [
    "# assume every word is a verb\n",
    "print [word.lemmatize(pos='v') for word in review.words]"
   ]
  },
  {
   "cell_type": "code",
   "execution_count": 77,
   "metadata": {
    "collapsed": true
   },
   "outputs": [],
   "source": [
    "# define a function that accepts text and returns a list of lemmas\n",
    "def split_into_lemmas(text):\n",
    "    text = unicode(text, 'utf-8').lower()\n",
    "    words = TextBlob(text).words\n",
    "    return [word.lemmatize() for word in words]"
   ]
  },
  {
   "cell_type": "code",
   "execution_count": 78,
   "metadata": {
    "collapsed": false
   },
   "outputs": [
    {
     "name": "stdout",
     "output_type": "stream",
     "text": [
      "Features:  2159\n",
      "Accuracy:  0.98275862069\n"
     ]
    }
   ],
   "source": [
    "# use split_into_lemmas as the feature extraction function (WARNING: SLOW!)\n",
    "vect = CountVectorizer(analyzer=split_into_lemmas)\n",
    "tokenize_test(vect)"
   ]
  },
  {
   "cell_type": "code",
   "execution_count": 79,
   "metadata": {
    "collapsed": false
   },
   "outputs": [
    {
     "name": "stdout",
     "output_type": "stream",
     "text": [
      "[u'winner', u'winter', u'wish', u'with', u'within', u'without', u'wo', u'wondered', u'wonderful', u'wood', u'word', u'work', u'working', u'world', u'worried', u'worse', u'worst', u'worth', u'would', u'wow', u'wrapped', u'wreck', u'wrestled', u'write', u'writing', u'written', u'wrong', u'x', u'yard-y', u'yasmani', u'yasmini', u'yaz', u'yaz/yasmani', u'yeah', u'year', u'year-round', u'yelp', u'yelper', u'yesterday', u'yet', u'you', u'your', u'yourself', u'youthful', u'yum', u'yummy', u'zabaglione', u'zero', u'zoo', u'zucchini']\n"
     ]
    }
   ],
   "source": [
    "# last 50 features\n",
    "print vect.get_feature_names()[-50:]"
   ]
  },
  {
   "cell_type": "markdown",
   "metadata": {},
   "source": [
    "# Part 7: Term Frequency-Inverse Document Frequency (TF-IDF)¶"
   ]
  },
  {
   "cell_type": "code",
   "execution_count": 82,
   "metadata": {
    "collapsed": false
   },
   "outputs": [
    {
     "data": {
      "text/plain": [
       "(458, 3720)"
      ]
     },
     "execution_count": 82,
     "metadata": {},
     "output_type": "execute_result"
    }
   ],
   "source": [
    "# create a document-term matrix using TF-IDF\n",
    "vect = TfidfVectorizer(stop_words='english')\n",
    "dtm = vect.fit_transform(yelp.review)\n",
    "features = vect.get_feature_names()\n",
    "dtm.shape"
   ]
  },
  {
   "cell_type": "code",
   "execution_count": 83,
   "metadata": {
    "collapsed": true
   },
   "outputs": [],
   "source": [
    "def summarize():\n",
    "    \n",
    "    # choose a random review that is at least 300 characters\n",
    "    review_length = 0\n",
    "    while review_length < 300:\n",
    "        review_id = np.random.randint(0, len(yelp))\n",
    "        review_text = unicode(yelp.review[review_id], 'utf-8')\n",
    "        review_length = len(review_text)\n",
    "    \n",
    "    # create a dictionary of words and their TF-IDF scores\n",
    "    word_scores = {}\n",
    "    for word in TextBlob(review_text).words:\n",
    "        word = word.lower()\n",
    "        if word in features:\n",
    "            word_scores[word] = dtm[review_id, features.index(word)]\n",
    "    \n",
    "    # print words with the top 5 TF-IDF scores\n",
    "    print 'TOP SCORING WORDS:'\n",
    "    top_scores = sorted(word_scores.items(), key=lambda x: x[1], reverse=True)[:5]\n",
    "    for word, score in top_scores:\n",
    "        print word\n",
    "    \n",
    "    # print 5 random words\n",
    "    print '\\n' + 'RANDOM WORDS:'\n",
    "    random_words = np.random.choice(word_scores.keys(), size=5, replace=False)\n",
    "    for word in random_words:\n",
    "        print word\n",
    "    \n",
    "    # print the review\n",
    "    print '\\n' + review_text"
   ]
  },
  {
   "cell_type": "code",
   "execution_count": 84,
   "metadata": {
    "collapsed": false
   },
   "outputs": [
    {
     "name": "stdout",
     "output_type": "stream",
     "text": [
      "TOP SCORING WORDS:\n",
      "meal\n",
      "enjoyed\n",
      "spring\n",
      "chocolates\n",
      "spent\n",
      "\n",
      "RANDOM WORDS:\n",
      "wine\n",
      "date\n",
      "plate\n",
      "welcoming\n",
      "light\n",
      "\n",
      "Spent a delightful evening here on a gorgeous spring day. We enjoyed the outdoor seating, delicious food, and very nice wine. The bruschetta flight was so tasty we had to order a second. The charcuterie plate was also very good. We shared two flights of chocolates for dessert and enjoyed every one of them. If you are looking for good wine and a light meal with welcoming and attentive service, this is your place. A great choice for a cozy meal with friends or a dinner date!\r\n",
      "\n"
     ]
    }
   ],
   "source": [
    "summarize()"
   ]
  },
  {
   "cell_type": "markdown",
   "metadata": {},
   "source": [
    "# Sentiment Analysis"
   ]
  },
  {
   "cell_type": "code",
   "execution_count": 86,
   "metadata": {
    "collapsed": false
   },
   "outputs": [
    {
     "name": "stdout",
     "output_type": "stream",
     "text": [
      "This review is massively overdue (I don't write a lot of reviews). My husband and I are semi-regulars at this place. Anastasia and Dave are friendly people with great taste, and they have created wonderful, unpretentious wine bar. The wine list is delicious - we have our favorites like everyone but have never had a bad wine from their list - and the staff give great advice if you're not sure. Anastasia even gave us recommendations about which wineries to hit up in her native land on our summer vacation.\r\n",
      "\r\n",
      "The food is yummy too, if you're okay with the dishes being a bit on the small side for the price.\r\n",
      "\r\n",
      "Overall, this place has us coming back on the regular. The only downside is they've been so successful that it's rarer to see Anastasia and Dave hanging around these days, but that just means they've been doing well. \r\n",
      "\r\n",
      "A must-try if you live in the U Street/Shaw/Mt. Vernon area.\r\n",
      "\n"
     ]
    }
   ],
   "source": [
    "print review"
   ]
  },
  {
   "cell_type": "code",
   "execution_count": 87,
   "metadata": {
    "collapsed": false
   },
   "outputs": [
    {
     "data": {
      "text/plain": [
       "0.2600852272727273"
      ]
     },
     "execution_count": 87,
     "metadata": {},
     "output_type": "execute_result"
    }
   ],
   "source": [
    "# polarity ranges from -1 (most negative) to 1 (most positive)\n",
    "review.sentiment.polarity"
   ]
  },
  {
   "cell_type": "code",
   "execution_count": 88,
   "metadata": {
    "collapsed": false
   },
   "outputs": [
    {
     "data": {
      "text/html": [
       "<div>\n",
       "<table border=\"1\" class=\"dataframe\">\n",
       "  <thead>\n",
       "    <tr style=\"text-align: right;\">\n",
       "      <th></th>\n",
       "      <th>rest_name</th>\n",
       "      <th>username</th>\n",
       "      <th>review</th>\n",
       "      <th>stars</th>\n",
       "      <th>date</th>\n",
       "      <th>location</th>\n",
       "      <th>length</th>\n",
       "    </tr>\n",
       "  </thead>\n",
       "  <tbody>\n",
       "    <tr>\n",
       "      <th>0</th>\n",
       "      <td>La Jambe</td>\n",
       "      <td>/user_details?userid=GBjdziANdkk29jjwOBj5ow</td>\n",
       "      <td>This review is massively overdue (I don't writ...</td>\n",
       "      <td>5.0</td>\n",
       "      <td>2017-08-25</td>\n",
       "      <td>Washington, DC</td>\n",
       "      <td>897</td>\n",
       "    </tr>\n",
       "  </tbody>\n",
       "</table>\n",
       "</div>"
      ],
      "text/plain": [
       "  rest_name                                     username  \\\n",
       "0  La Jambe  /user_details?userid=GBjdziANdkk29jjwOBj5ow   \n",
       "\n",
       "                                              review  stars        date  \\\n",
       "0  This review is massively overdue (I don't writ...    5.0  2017-08-25   \n",
       "\n",
       "         location  length  \n",
       "0  Washington, DC     897  "
      ]
     },
     "execution_count": 88,
     "metadata": {},
     "output_type": "execute_result"
    }
   ],
   "source": [
    "# understanding the apply method\n",
    "yelp['length'] = yelp.review.apply(len)\n",
    "yelp.head(1)"
   ]
  },
  {
   "cell_type": "code",
   "execution_count": 89,
   "metadata": {
    "collapsed": true
   },
   "outputs": [],
   "source": [
    "# define a function that accepts text and returns the polarity\n",
    "def detect_sentiment(text):\n",
    "    return TextBlob(text.decode('utf-8')).sentiment.polarity"
   ]
  },
  {
   "cell_type": "code",
   "execution_count": 91,
   "metadata": {
    "collapsed": false
   },
   "outputs": [],
   "source": [
    "# create a new DataFrame column for sentiment (WARNING: SLOW!)\n",
    "yelp['sentiment'] = yelp.review.apply(detect_sentiment)"
   ]
  },
  {
   "cell_type": "code",
   "execution_count": 92,
   "metadata": {
    "collapsed": false
   },
   "outputs": [
    {
     "data": {
      "text/plain": [
       "Index([u'rest_name', u'username', u'review', u'stars', u'date', u'location',\n",
       "       u'length', u'sentiment'],\n",
       "      dtype='object')"
      ]
     },
     "execution_count": 92,
     "metadata": {},
     "output_type": "execute_result"
    }
   ],
   "source": [
    "yelp.columns"
   ]
  },
  {
   "cell_type": "code",
   "execution_count": 93,
   "metadata": {
    "collapsed": true
   },
   "outputs": [],
   "source": [
    "yelp_best_worst = yelp[(yelp.stars==5) | (yelp.stars==1)]"
   ]
  },
  {
   "cell_type": "code",
   "execution_count": 94,
   "metadata": {
    "collapsed": false
   },
   "outputs": [
    {
     "data": {
      "text/plain": [
       "<matplotlib.axes._subplots.AxesSubplot at 0xd6912e8>"
      ]
     },
     "execution_count": 94,
     "metadata": {},
     "output_type": "execute_result"
    },
    {
     "data": {
      "image/png": "[encoded data removed]",
      "text/plain": [
       "<matplotlib.figure.Figure at 0xdf57c18>"
      ]
     },
     "metadata": {},
     "output_type": "display_data"
    }
   ],
   "source": [
    "# box plot of sentiment grouped by stars\n",
    "yelp.boxplot(column='sentiment', by='stars')"
   ]
  },
  {
   "cell_type": "code",
   "execution_count": 97,
   "metadata": {
    "collapsed": false
   },
   "outputs": [
    {
     "data": {
      "text/plain": [
       "Series([], Name: review, dtype: object)"
      ]
     },
     "execution_count": 97,
     "metadata": {},
     "output_type": "execute_result"
    }
   ],
   "source": [
    "# reviews with most positive sentiment\n",
    "yelp[yelp.sentiment == 1].review.head()"
   ]
  },
  {
   "cell_type": "code",
   "execution_count": 98,
   "metadata": {
    "collapsed": false
   },
   "outputs": [
    {
     "data": {
      "text/plain": [
       "Series([], Name: review, dtype: object)"
      ]
     },
     "execution_count": 98,
     "metadata": {},
     "output_type": "execute_result"
    }
   ],
   "source": [
    "# reviews with most negative sentiment\n",
    "yelp[yelp.sentiment == -1].review.head()"
   ]
  }
 ],
 "metadata": {
  "kernelspec": {
   "display_name": "Python 2",
   "language": "python",
   "name": "python2"
  },
  "language_info": {
   "codemirror_mode": {
    "name": "ipython",
    "version": 2
   },
   "file_extension": ".py",
   "mimetype": "text/x-python",
   "name": "python",
   "nbconvert_exporter": "python",
   "pygments_lexer": "ipython2",
   "version": "2.7.13"
  }
 },
 "nbformat": 4,
 "nbformat_minor": 2
}
